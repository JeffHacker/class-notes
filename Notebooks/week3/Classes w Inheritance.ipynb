{
 "cells": [
  {
   "cell_type": "code",
   "execution_count": 11,
   "metadata": {
    "collapsed": false
   },
   "outputs": [
    {
     "name": "stdout",
     "output_type": "stream",
     "text": [
      "base walking called\n",
      "walking\n",
      "---- beautiful silence =====\n",
      "base walking called\n",
      "RETURNED FROM SUPER walking\n",
      "slowly walking\n"
     ]
    }
   ],
   "source": [
    "class Person: # Super Class\n",
    "    \n",
    "    def talk(self):\n",
    "        return \"talking\"\n",
    "    \n",
    "    def walk(self):\n",
    "        print(\"base walking called\")\n",
    "        return \"walking\"\n",
    "\n",
    "\n",
    "class SlowPerson(Person): # Sub Class\n",
    "    \n",
    "    def walk(self):\n",
    "        super_return = super().walk()\n",
    "        print(\"RETURNED FROM SUPER\", super_return)\n",
    "        return \"slowly walking\"\n",
    "\n",
    "    \n",
    "joel = Person()\n",
    "sarah = SlowPerson()\n",
    "\n",
    "print(joel.walk())\n",
    "print('---- beautiful silence =====')\n",
    "print(sarah.walk())\n",
    "\n",
    "#print(joel.talk())\n",
    "#print(sarah.talk())"
   ]
  },
  {
   "cell_type": "code",
   "execution_count": 14,
   "metadata": {
    "collapsed": false
   },
   "outputs": [
    {
     "name": "stdout",
     "output_type": "stream",
     "text": [
      "glass\n",
      "None\n",
      "ceramic\n"
     ]
    }
   ],
   "source": [
    "class Container:\n",
    "    type = \"glass\"\n",
    "    \n",
    "    def change_type(self):\n",
    "        self.type = \"ceramic\"\n",
    "        \n",
    "c = Container()\n",
    "print(c.type)\n",
    "print(c.change_type())\n",
    "print(c.type)"
   ]
  }
 ],
 "metadata": {
  "kernelspec": {
   "display_name": "Python 3",
   "language": "python",
   "name": "python3"
  },
  "language_info": {
   "codemirror_mode": {
    "name": "ipython",
    "version": 3
   },
   "file_extension": ".py",
   "mimetype": "text/x-python",
   "name": "python",
   "nbconvert_exporter": "python",
   "pygments_lexer": "ipython3",
   "version": "3.4.3"
  }
 },
 "nbformat": 4,
 "nbformat_minor": 0
}
