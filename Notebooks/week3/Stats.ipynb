{
 "cells": [
  {
   "cell_type": "markdown",
   "metadata": {},
   "source": [
    "# Statistics!"
   ]
  },
  {
   "cell_type": "code",
   "execution_count": 6,
   "metadata": {
    "collapsed": false
   },
   "outputs": [
    {
     "name": "stdout",
     "output_type": "stream",
     "text": [
      "6\n",
      "52.833333333333336\n"
     ]
    }
   ],
   "source": [
    "col = [1, 2, 4, 53, 23, 234]\n",
    "\n",
    "count = len(col)\n",
    "value = sum(col)\n",
    "print(count)\n",
    "print(value/count)"
   ]
  },
  {
   "cell_type": "code",
   "execution_count": 7,
   "metadata": {
    "collapsed": false
   },
   "outputs": [
    {
     "data": {
      "text/plain": [
       "3.0"
      ]
     },
     "execution_count": 7,
     "metadata": {},
     "output_type": "execute_result"
    }
   ],
   "source": [
    "def mean(col):\n",
    "    return sum(col) / len(col)\n",
    "\n",
    "mean([1, 2, 3, 4, 5])"
   ]
  },
  {
   "cell_type": "code",
   "execution_count": 22,
   "metadata": {
    "collapsed": false
   },
   "outputs": [
    {
     "name": "stdout",
     "output_type": "stream",
     "text": [
      "23\n",
      "[4, 23]\n",
      "13.5\n"
     ]
    }
   ],
   "source": [
    "def median(col):\n",
    "    col = sorted(col)\n",
    "    midpoint = len(col) // 2\n",
    "    if len(col) % 2 == 0: #even\n",
    "        midpoint_values = col[midpoint - 1: midpoint + 1]\n",
    "        mean_of_midpoints = mean(midpoint_values)\n",
    "        return mean_of_midpoints\n",
    "    return col[midpoint]\n",
    "\n",
    "print(median([1, 2, 4, 53, 23, 234, 123]))\n",
    "print(median([1, 2, 4, 23, 53, 234]))"
   ]
  },
  {
   "cell_type": "code",
   "execution_count": 44,
   "metadata": {
    "collapsed": false
   },
   "outputs": [
    {
     "data": {
      "text/plain": [
       "[4]"
      ]
     },
     "execution_count": 44,
     "metadata": {},
     "output_type": "execute_result"
    }
   ],
   "source": [
    "from collections import Counter\n",
    "\n",
    "def mode(col):\n",
    "    counter = Counter(col)\n",
    "    max_occurence = max(counter.values())\n",
    "    return [key for key, value in counter.items() if value == max_occurence]\n",
    "\n",
    "mode([1, 2, 4, 4])"
   ]
  },
  {
   "cell_type": "code",
   "execution_count": 45,
   "metadata": {
    "collapsed": false
   },
   "outputs": [
    {
     "name": "stdout",
     "output_type": "stream",
     "text": [
      "97\n"
     ]
    }
   ],
   "source": [
    "def item_range(col):\n",
    "    return max(col) - min(col)\n",
    "\n",
    "print(item_range([6, 7, 8, 3, 4, 100, 6]))"
   ]
  },
  {
   "cell_type": "code",
   "execution_count": 62,
   "metadata": {
    "collapsed": false
   },
   "outputs": [
    {
     "name": "stdout",
     "output_type": "stream",
     "text": [
      "80.6994929554412\n"
     ]
    },
    {
     "data": {
      "text/plain": [
       "80.6994929554412"
      ]
     },
     "execution_count": 62,
     "metadata": {},
     "output_type": "execute_result"
    }
   ],
   "source": [
    "# variance / stdev\n",
    "v_col = sorted([1, 2, 4, 53, 23, 234, 123])\n",
    "mean_v_col = mean(v_col)\n",
    "stdev = (mean([(value - mean_v_col) ** 2 for value in v_col])) ** .5\n",
    "print(stdev)\n",
    "from statistics import stdev, pstdev\n",
    "pstdev(v_col)"
   ]
  },
  {
   "cell_type": "markdown",
   "metadata": {},
   "source": [
    "## truthy/falsey"
   ]
  },
  {
   "cell_type": "code",
   "execution_count": 81,
   "metadata": {
    "collapsed": false
   },
   "outputs": [
    {
     "name": "stdout",
     "output_type": "stream",
     "text": [
      "True\n",
      "True\n",
      "True\n",
      "False\n"
     ]
    },
    {
     "data": {
      "text/plain": [
       "False"
      ]
     },
     "execution_count": 81,
     "metadata": {},
     "output_type": "execute_result"
    }
   ],
   "source": [
    "print(bool([[]]))\n",
    "print(any([[\"\"], [], [], \"\"]))\n",
    "\n",
    "def lazy_func():\n",
    "    yield \"\"\n",
    "    yield \"pj\"\n",
    "    \n",
    "expression = lazy_func()\n",
    "print(bool(expression))\n",
    "print(bool(next(expression)))\n",
    "\n",
    "any([[], [], (lambda : None)()])\n",
    "#print(next(lazy_func()))"
   ]
  },
  {
   "cell_type": "code",
   "execution_count": null,
   "metadata": {
    "collapsed": true
   },
   "outputs": [],
   "source": []
  }
 ],
 "metadata": {
  "kernelspec": {
   "display_name": "Python 3",
   "language": "python",
   "name": "python3"
  },
  "language_info": {
   "codemirror_mode": {
    "name": "ipython",
    "version": 3
   },
   "file_extension": ".py",
   "mimetype": "text/x-python",
   "name": "python",
   "nbconvert_exporter": "python",
   "pygments_lexer": "ipython3",
   "version": "3.4.3"
  }
 },
 "nbformat": 4,
 "nbformat_minor": 0
}
