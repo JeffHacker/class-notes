{
 "cells": [
  {
   "cell_type": "code",
   "execution_count": 91,
   "metadata": {
    "collapsed": true
   },
   "outputs": [],
   "source": [
    "import pandas as pd\n",
    "import matplotlib.pyplot as plt"
   ]
  },
  {
   "cell_type": "code",
   "execution_count": 13,
   "metadata": {
    "collapsed": true
   },
   "outputs": [],
   "source": [
    "%matplotlib inline"
   ]
  },
  {
   "cell_type": "code",
   "execution_count": 5,
   "metadata": {
    "collapsed": false
   },
   "outputs": [
    {
     "data": {
      "text/html": [
       "<div style=\"max-height:1000px;max-width:1500px;overflow:auto;\">\n",
       "<table border=\"1\" class=\"dataframe\">\n",
       "  <thead>\n",
       "    <tr style=\"text-align: right;\">\n",
       "      <th></th>\n",
       "      <th>X</th>\n",
       "      <th>O</th>\n",
       "      <th>Winner</th>\n",
       "    </tr>\n",
       "  </thead>\n",
       "  <tbody>\n",
       "    <tr>\n",
       "      <th>0</th>\n",
       "      <td>bekk/getem.py</td>\n",
       "      <td>lance/tictactoe.py</td>\n",
       "      <td>bekk/getem.py</td>\n",
       "    </tr>\n",
       "    <tr>\n",
       "      <th>1</th>\n",
       "      <td>bekk/getem.py</td>\n",
       "      <td>lance/worse_bot.py</td>\n",
       "      <td>bekk/getem.py</td>\n",
       "    </tr>\n",
       "    <tr>\n",
       "      <th>2</th>\n",
       "      <td>bekk/getem.py</td>\n",
       "      <td>pj/annoy_bot.py</td>\n",
       "      <td>bekk/getem.py</td>\n",
       "    </tr>\n",
       "    <tr>\n",
       "      <th>3</th>\n",
       "      <td>bekk/getem.py</td>\n",
       "      <td>pj/random_bot.py</td>\n",
       "      <td>bekk/getem.py</td>\n",
       "    </tr>\n",
       "    <tr>\n",
       "      <th>4</th>\n",
       "      <td>bekk/getem.py</td>\n",
       "      <td>pj/think_ahead_bot.py</td>\n",
       "      <td>tie</td>\n",
       "    </tr>\n",
       "  </tbody>\n",
       "</table>\n",
       "</div>"
      ],
      "text/plain": [
       "               X                      O         Winner\n",
       "0  bekk/getem.py     lance/tictactoe.py  bekk/getem.py\n",
       "1  bekk/getem.py     lance/worse_bot.py  bekk/getem.py\n",
       "2  bekk/getem.py        pj/annoy_bot.py  bekk/getem.py\n",
       "3  bekk/getem.py       pj/random_bot.py  bekk/getem.py\n",
       "4  bekk/getem.py  pj/think_ahead_bot.py            tie"
      ]
     },
     "execution_count": 5,
     "metadata": {},
     "output_type": "execute_result"
    }
   ],
   "source": [
    "data = pd.read_csv('big_outputs.csv', names=[\"X\", \"O\", \"Winner\"])\n",
    "data.head()"
   ]
  },
  {
   "cell_type": "code",
   "execution_count": 6,
   "metadata": {
    "collapsed": false
   },
   "outputs": [],
   "source": [
    "results = data[data.X == \"bekk/getem.py\"]"
   ]
  },
  {
   "cell_type": "code",
   "execution_count": 7,
   "metadata": {
    "collapsed": false
   },
   "outputs": [
    {
     "data": {
      "text/plain": [
       "0       bekk/getem.py\n",
       "1       bekk/getem.py\n",
       "2       bekk/getem.py\n",
       "3       bekk/getem.py\n",
       "4       bekk/getem.py\n",
       "5       bekk/getem.py\n",
       "6       bekk/getem.py\n",
       "56      bekk/getem.py\n",
       "57      bekk/getem.py\n",
       "58      bekk/getem.py\n",
       "59      bekk/getem.py\n",
       "60      bekk/getem.py\n",
       "61      bekk/getem.py\n",
       "62      bekk/getem.py\n",
       "112     bekk/getem.py\n",
       "113     bekk/getem.py\n",
       "114     bekk/getem.py\n",
       "115     bekk/getem.py\n",
       "116     bekk/getem.py\n",
       "117     bekk/getem.py\n",
       "118     bekk/getem.py\n",
       "168     bekk/getem.py\n",
       "169     bekk/getem.py\n",
       "170     bekk/getem.py\n",
       "171     bekk/getem.py\n",
       "172     bekk/getem.py\n",
       "173     bekk/getem.py\n",
       "174     bekk/getem.py\n",
       "224     bekk/getem.py\n",
       "225     bekk/getem.py\n",
       "            ...      \n",
       "845     bekk/getem.py\n",
       "846     bekk/getem.py\n",
       "896     bekk/getem.py\n",
       "897     bekk/getem.py\n",
       "898     bekk/getem.py\n",
       "899     bekk/getem.py\n",
       "900     bekk/getem.py\n",
       "901     bekk/getem.py\n",
       "902     bekk/getem.py\n",
       "952     bekk/getem.py\n",
       "953     bekk/getem.py\n",
       "954     bekk/getem.py\n",
       "955     bekk/getem.py\n",
       "956     bekk/getem.py\n",
       "957     bekk/getem.py\n",
       "958     bekk/getem.py\n",
       "1008    bekk/getem.py\n",
       "1009    bekk/getem.py\n",
       "1010    bekk/getem.py\n",
       "1011    bekk/getem.py\n",
       "1012    bekk/getem.py\n",
       "1013    bekk/getem.py\n",
       "1014    bekk/getem.py\n",
       "1064    bekk/getem.py\n",
       "1065    bekk/getem.py\n",
       "1066    bekk/getem.py\n",
       "1067    bekk/getem.py\n",
       "1068    bekk/getem.py\n",
       "1069    bekk/getem.py\n",
       "1070    bekk/getem.py\n",
       "Name: X, dtype: object"
      ]
     },
     "execution_count": 7,
     "metadata": {},
     "output_type": "execute_result"
    }
   ],
   "source": [
    "results.X"
   ]
  },
  {
   "cell_type": "code",
   "execution_count": 8,
   "metadata": {
    "collapsed": false
   },
   "outputs": [
    {
     "data": {
      "text/html": [
       "<div style=\"max-height:1000px;max-width:1500px;overflow:auto;\">\n",
       "<table border=\"1\" class=\"dataframe\">\n",
       "  <thead>\n",
       "    <tr style=\"text-align: right;\">\n",
       "      <th></th>\n",
       "      <th>X</th>\n",
       "      <th>O</th>\n",
       "      <th>Winner</th>\n",
       "    </tr>\n",
       "  </thead>\n",
       "  <tbody>\n",
       "  </tbody>\n",
       "</table>\n",
       "</div>"
      ],
      "text/plain": [
       "Empty DataFrame\n",
       "Columns: [X, O, Winner]\n",
       "Index: []"
      ]
     },
     "execution_count": 8,
     "metadata": {},
     "output_type": "execute_result"
    }
   ],
   "source": [
    "results[results.O == results.Winner]\n"
   ]
  },
  {
   "cell_type": "code",
   "execution_count": 9,
   "metadata": {
    "collapsed": false
   },
   "outputs": [],
   "source": [
    "new_results = data[(data.O == 'bekk/getem.py') & (data.Winner == data.X)] "
   ]
  },
  {
   "cell_type": "code",
   "execution_count": 10,
   "metadata": {
    "collapsed": false
   },
   "outputs": [
    {
     "data": {
      "text/html": [
       "<div style=\"max-height:1000px;max-width:1500px;overflow:auto;\">\n",
       "<table border=\"1\" class=\"dataframe\">\n",
       "  <thead>\n",
       "    <tr style=\"text-align: right;\">\n",
       "      <th></th>\n",
       "      <th>X</th>\n",
       "      <th>O</th>\n",
       "      <th>Winner</th>\n",
       "    </tr>\n",
       "  </thead>\n",
       "  <tbody>\n",
       "    <tr>\n",
       "      <th>427</th>\n",
       "      <td>pj/think_ahead_bot.py</td>\n",
       "      <td>bekk/getem.py</td>\n",
       "      <td>pj/think_ahead_bot.py</td>\n",
       "    </tr>\n",
       "  </tbody>\n",
       "</table>\n",
       "</div>"
      ],
      "text/plain": [
       "                         X              O                 Winner\n",
       "427  pj/think_ahead_bot.py  bekk/getem.py  pj/think_ahead_bot.py"
      ]
     },
     "execution_count": 10,
     "metadata": {},
     "output_type": "execute_result"
    }
   ],
   "source": [
    "new_results"
   ]
  },
  {
   "cell_type": "code",
   "execution_count": 17,
   "metadata": {
    "collapsed": false
   },
   "outputs": [
    {
     "data": {
      "text/plain": [
       "<matplotlib.axes._subplots.AxesSubplot at 0x10ac80f98>"
      ]
     },
     "execution_count": 17,
     "metadata": {},
     "output_type": "execute_result"
    },
    {
     "data": {
      "image/png": "[encoded data removed]",
      "text/plain": [
       "<matplotlib.figure.Figure at 0x10f10d780>"
      ]
     },
     "metadata": {},
     "output_type": "display_data"
    }
   ],
   "source": [
    "data.Winner.value_counts().plot(kind=\"barh\")"
   ]
  },
  {
   "cell_type": "code",
   "execution_count": 43,
   "metadata": {
    "collapsed": false
   },
   "outputs": [],
   "source": [
    "# bot # X wins # 0 wins # tie\n",
    "df = data"
   ]
  },
  {
   "cell_type": "code",
   "execution_count": 44,
   "metadata": {
    "collapsed": false
   },
   "outputs": [],
   "source": [
    "df = pd.DataFrame(list(set(df.X)), columns=[\"Bot\"])"
   ]
  },
  {
   "cell_type": "code",
   "execution_count": 46,
   "metadata": {
    "collapsed": false
   },
   "outputs": [],
   "source": [
    "df.index = df.Bot"
   ]
  },
  {
   "cell_type": "code",
   "execution_count": 47,
   "metadata": {
    "collapsed": false
   },
   "outputs": [
    {
     "data": {
      "text/html": [
       "<div style=\"max-height:1000px;max-width:1500px;overflow:auto;\">\n",
       "<table border=\"1\" class=\"dataframe\">\n",
       "  <thead>\n",
       "    <tr style=\"text-align: right;\">\n",
       "      <th></th>\n",
       "      <th>Bot</th>\n",
       "    </tr>\n",
       "    <tr>\n",
       "      <th>Bot</th>\n",
       "      <th></th>\n",
       "    </tr>\n",
       "  </thead>\n",
       "  <tbody>\n",
       "    <tr>\n",
       "      <th>pj/random_bot.py</th>\n",
       "      <td>pj/random_bot.py</td>\n",
       "    </tr>\n",
       "    <tr>\n",
       "      <th>lance/worse_bot.py</th>\n",
       "      <td>lance/worse_bot.py</td>\n",
       "    </tr>\n",
       "    <tr>\n",
       "      <th>bekk/getem.py</th>\n",
       "      <td>bekk/getem.py</td>\n",
       "    </tr>\n",
       "    <tr>\n",
       "      <th>pj/win_or_block_bot.py</th>\n",
       "      <td>pj/win_or_block_bot.py</td>\n",
       "    </tr>\n",
       "    <tr>\n",
       "      <th>pj/annoy_bot.py</th>\n",
       "      <td>pj/annoy_bot.py</td>\n",
       "    </tr>\n",
       "    <tr>\n",
       "      <th>erik/logicbot.py</th>\n",
       "      <td>erik/logicbot.py</td>\n",
       "    </tr>\n",
       "    <tr>\n",
       "      <th>pj/think_ahead_bot.py</th>\n",
       "      <td>pj/think_ahead_bot.py</td>\n",
       "    </tr>\n",
       "    <tr>\n",
       "      <th>lance/tictactoe.py</th>\n",
       "      <td>lance/tictactoe.py</td>\n",
       "    </tr>\n",
       "  </tbody>\n",
       "</table>\n",
       "</div>"
      ],
      "text/plain": [
       "                                           Bot\n",
       "Bot                                           \n",
       "pj/random_bot.py              pj/random_bot.py\n",
       "lance/worse_bot.py          lance/worse_bot.py\n",
       "bekk/getem.py                    bekk/getem.py\n",
       "pj/win_or_block_bot.py  pj/win_or_block_bot.py\n",
       "pj/annoy_bot.py                pj/annoy_bot.py\n",
       "erik/logicbot.py              erik/logicbot.py\n",
       "pj/think_ahead_bot.py    pj/think_ahead_bot.py\n",
       "lance/tictactoe.py          lance/tictactoe.py"
      ]
     },
     "execution_count": 47,
     "metadata": {},
     "output_type": "execute_result"
    }
   ],
   "source": [
    "df"
   ]
  },
  {
   "cell_type": "code",
   "execution_count": 51,
   "metadata": {
    "collapsed": false
   },
   "outputs": [
    {
     "data": {
      "text/plain": [
       "bekk/getem.py             99\n",
       "pj/win_or_block_bot.py    99\n",
       "pj/think_ahead_bot.py     98\n",
       "pj/annoy_bot.py           71\n",
       "lance/tictactoe.py        52\n",
       "erik/logicbot.py          42\n",
       "pj/random_bot.py          41\n",
       "lance/worse_bot.py        22\n",
       "dtype: int64"
      ]
     },
     "execution_count": 51,
     "metadata": {},
     "output_type": "execute_result"
    }
   ],
   "source": [
    "data.X[data.X == data.Winner].value_counts()"
   ]
  },
  {
   "cell_type": "code",
   "execution_count": 56,
   "metadata": {
    "collapsed": false
   },
   "outputs": [],
   "source": [
    "new_df = pd.DataFrame(data.X[data.X == data.Winner].value_counts())"
   ]
  },
  {
   "cell_type": "code",
   "execution_count": 57,
   "metadata": {
    "collapsed": false
   },
   "outputs": [
    {
     "data": {
      "text/html": [
       "<div style=\"max-height:1000px;max-width:1500px;overflow:auto;\">\n",
       "<table border=\"1\" class=\"dataframe\">\n",
       "  <thead>\n",
       "    <tr style=\"text-align: right;\">\n",
       "      <th></th>\n",
       "      <th>0</th>\n",
       "    </tr>\n",
       "  </thead>\n",
       "  <tbody>\n",
       "    <tr>\n",
       "      <th>bekk/getem.py</th>\n",
       "      <td>99</td>\n",
       "    </tr>\n",
       "    <tr>\n",
       "      <th>pj/win_or_block_bot.py</th>\n",
       "      <td>99</td>\n",
       "    </tr>\n",
       "    <tr>\n",
       "      <th>pj/think_ahead_bot.py</th>\n",
       "      <td>98</td>\n",
       "    </tr>\n",
       "    <tr>\n",
       "      <th>pj/annoy_bot.py</th>\n",
       "      <td>71</td>\n",
       "    </tr>\n",
       "    <tr>\n",
       "      <th>lance/tictactoe.py</th>\n",
       "      <td>52</td>\n",
       "    </tr>\n",
       "    <tr>\n",
       "      <th>erik/logicbot.py</th>\n",
       "      <td>42</td>\n",
       "    </tr>\n",
       "    <tr>\n",
       "      <th>pj/random_bot.py</th>\n",
       "      <td>41</td>\n",
       "    </tr>\n",
       "    <tr>\n",
       "      <th>lance/worse_bot.py</th>\n",
       "      <td>22</td>\n",
       "    </tr>\n",
       "  </tbody>\n",
       "</table>\n",
       "</div>"
      ],
      "text/plain": [
       "                         0\n",
       "bekk/getem.py           99\n",
       "pj/win_or_block_bot.py  99\n",
       "pj/think_ahead_bot.py   98\n",
       "pj/annoy_bot.py         71\n",
       "lance/tictactoe.py      52\n",
       "erik/logicbot.py        42\n",
       "pj/random_bot.py        41\n",
       "lance/worse_bot.py      22"
      ]
     },
     "execution_count": 57,
     "metadata": {},
     "output_type": "execute_result"
    }
   ],
   "source": [
    "new_df"
   ]
  },
  {
   "cell_type": "code",
   "execution_count": 59,
   "metadata": {
    "collapsed": false
   },
   "outputs": [],
   "source": [
    "o_wins_series = data.O[data.O == data.Winner].value_counts()"
   ]
  },
  {
   "cell_type": "code",
   "execution_count": 65,
   "metadata": {
    "collapsed": false
   },
   "outputs": [],
   "source": [
    "bigger_df = pd.merge(new_df, o_wins_series.to_frame(), right_index=True, left_index=True)"
   ]
  },
  {
   "cell_type": "code",
   "execution_count": 66,
   "metadata": {
    "collapsed": false
   },
   "outputs": [
    {
     "data": {
      "text/html": [
       "<div style=\"max-height:1000px;max-width:1500px;overflow:auto;\">\n",
       "<table border=\"1\" class=\"dataframe\">\n",
       "  <thead>\n",
       "    <tr style=\"text-align: right;\">\n",
       "      <th></th>\n",
       "      <th>0_x</th>\n",
       "      <th>0_y</th>\n",
       "    </tr>\n",
       "  </thead>\n",
       "  <tbody>\n",
       "    <tr>\n",
       "      <th>bekk/getem.py</th>\n",
       "      <td>99</td>\n",
       "      <td>94</td>\n",
       "    </tr>\n",
       "    <tr>\n",
       "      <th>pj/think_ahead_bot.py</th>\n",
       "      <td>98</td>\n",
       "      <td>81</td>\n",
       "    </tr>\n",
       "    <tr>\n",
       "      <th>pj/win_or_block_bot.py</th>\n",
       "      <td>99</td>\n",
       "      <td>80</td>\n",
       "    </tr>\n",
       "    <tr>\n",
       "      <th>pj/annoy_bot.py</th>\n",
       "      <td>71</td>\n",
       "      <td>50</td>\n",
       "    </tr>\n",
       "    <tr>\n",
       "      <th>lance/tictactoe.py</th>\n",
       "      <td>52</td>\n",
       "      <td>26</td>\n",
       "    </tr>\n",
       "    <tr>\n",
       "      <th>erik/logicbot.py</th>\n",
       "      <td>42</td>\n",
       "      <td>23</td>\n",
       "    </tr>\n",
       "    <tr>\n",
       "      <th>pj/random_bot.py</th>\n",
       "      <td>41</td>\n",
       "      <td>13</td>\n",
       "    </tr>\n",
       "    <tr>\n",
       "      <th>lance/worse_bot.py</th>\n",
       "      <td>22</td>\n",
       "      <td>11</td>\n",
       "    </tr>\n",
       "  </tbody>\n",
       "</table>\n",
       "</div>"
      ],
      "text/plain": [
       "                        0_x  0_y\n",
       "bekk/getem.py            99   94\n",
       "pj/think_ahead_bot.py    98   81\n",
       "pj/win_or_block_bot.py   99   80\n",
       "pj/annoy_bot.py          71   50\n",
       "lance/tictactoe.py       52   26\n",
       "erik/logicbot.py         42   23\n",
       "pj/random_bot.py         41   13\n",
       "lance/worse_bot.py       22   11"
      ]
     },
     "execution_count": 66,
     "metadata": {},
     "output_type": "execute_result"
    }
   ],
   "source": [
    "bigger_df"
   ]
  },
  {
   "cell_type": "code",
   "execution_count": 69,
   "metadata": {
    "collapsed": true
   },
   "outputs": [],
   "source": [
    "x_ties_series = data.X[data.Winner == \"tie\"].value_counts()"
   ]
  },
  {
   "cell_type": "code",
   "execution_count": 71,
   "metadata": {
    "collapsed": false
   },
   "outputs": [
    {
     "data": {
      "text/plain": [
       "pj/think_ahead_bot.py     42\n",
       "pj/win_or_block_bot.py    41\n",
       "bekk/getem.py             41\n",
       "pj/random_bot.py          29\n",
       "erik/logicbot.py          23\n",
       "lance/worse_bot.py        22\n",
       "lance/tictactoe.py        12\n",
       "pj/annoy_bot.py            8\n",
       "dtype: int64"
      ]
     },
     "execution_count": 71,
     "metadata": {},
     "output_type": "execute_result"
    }
   ],
   "source": [
    "x_ties_series"
   ]
  },
  {
   "cell_type": "code",
   "execution_count": 73,
   "metadata": {
    "collapsed": false
   },
   "outputs": [],
   "source": [
    "even_bigger_df = pd.merge(bigger_df, x_ties_series.to_frame(), right_index=True, left_index=True)"
   ]
  },
  {
   "cell_type": "code",
   "execution_count": 74,
   "metadata": {
    "collapsed": false
   },
   "outputs": [
    {
     "data": {
      "text/html": [
       "<div style=\"max-height:1000px;max-width:1500px;overflow:auto;\">\n",
       "<table border=\"1\" class=\"dataframe\">\n",
       "  <thead>\n",
       "    <tr style=\"text-align: right;\">\n",
       "      <th></th>\n",
       "      <th>0_x</th>\n",
       "      <th>0_y</th>\n",
       "      <th>0</th>\n",
       "    </tr>\n",
       "  </thead>\n",
       "  <tbody>\n",
       "    <tr>\n",
       "      <th>pj/think_ahead_bot.py</th>\n",
       "      <td>98</td>\n",
       "      <td>81</td>\n",
       "      <td>42</td>\n",
       "    </tr>\n",
       "    <tr>\n",
       "      <th>pj/win_or_block_bot.py</th>\n",
       "      <td>99</td>\n",
       "      <td>80</td>\n",
       "      <td>41</td>\n",
       "    </tr>\n",
       "    <tr>\n",
       "      <th>bekk/getem.py</th>\n",
       "      <td>99</td>\n",
       "      <td>94</td>\n",
       "      <td>41</td>\n",
       "    </tr>\n",
       "    <tr>\n",
       "      <th>pj/random_bot.py</th>\n",
       "      <td>41</td>\n",
       "      <td>13</td>\n",
       "      <td>29</td>\n",
       "    </tr>\n",
       "    <tr>\n",
       "      <th>erik/logicbot.py</th>\n",
       "      <td>42</td>\n",
       "      <td>23</td>\n",
       "      <td>23</td>\n",
       "    </tr>\n",
       "    <tr>\n",
       "      <th>lance/worse_bot.py</th>\n",
       "      <td>22</td>\n",
       "      <td>11</td>\n",
       "      <td>22</td>\n",
       "    </tr>\n",
       "    <tr>\n",
       "      <th>lance/tictactoe.py</th>\n",
       "      <td>52</td>\n",
       "      <td>26</td>\n",
       "      <td>12</td>\n",
       "    </tr>\n",
       "    <tr>\n",
       "      <th>pj/annoy_bot.py</th>\n",
       "      <td>71</td>\n",
       "      <td>50</td>\n",
       "      <td>8</td>\n",
       "    </tr>\n",
       "  </tbody>\n",
       "</table>\n",
       "</div>"
      ],
      "text/plain": [
       "                        0_x  0_y   0\n",
       "pj/think_ahead_bot.py    98   81  42\n",
       "pj/win_or_block_bot.py   99   80  41\n",
       "bekk/getem.py            99   94  41\n",
       "pj/random_bot.py         41   13  29\n",
       "erik/logicbot.py         42   23  23\n",
       "lance/worse_bot.py       22   11  22\n",
       "lance/tictactoe.py       52   26  12\n",
       "pj/annoy_bot.py          71   50   8"
      ]
     },
     "execution_count": 74,
     "metadata": {},
     "output_type": "execute_result"
    }
   ],
   "source": [
    "even_bigger_df"
   ]
  },
  {
   "cell_type": "code",
   "execution_count": 79,
   "metadata": {
    "collapsed": false
   },
   "outputs": [
    {
     "data": {
      "text/html": [
       "<div style=\"max-height:1000px;max-width:1500px;overflow:auto;\">\n",
       "<table border=\"1\" class=\"dataframe\">\n",
       "  <thead>\n",
       "    <tr style=\"text-align: right;\">\n",
       "      <th></th>\n",
       "      <th>0</th>\n",
       "    </tr>\n",
       "  </thead>\n",
       "  <tbody>\n",
       "    <tr>\n",
       "      <th>pj/think_ahead_bot.py</th>\n",
       "      <td>59</td>\n",
       "    </tr>\n",
       "    <tr>\n",
       "      <th>pj/win_or_block_bot.py</th>\n",
       "      <td>56</td>\n",
       "    </tr>\n",
       "    <tr>\n",
       "      <th>bekk/getem.py</th>\n",
       "      <td>45</td>\n",
       "    </tr>\n",
       "    <tr>\n",
       "      <th>pj/random_bot.py</th>\n",
       "      <td>21</td>\n",
       "    </tr>\n",
       "    <tr>\n",
       "      <th>pj/annoy_bot.py</th>\n",
       "      <td>11</td>\n",
       "    </tr>\n",
       "    <tr>\n",
       "      <th>lance/worse_bot.py</th>\n",
       "      <td>11</td>\n",
       "    </tr>\n",
       "    <tr>\n",
       "      <th>erik/logicbot.py</th>\n",
       "      <td>8</td>\n",
       "    </tr>\n",
       "    <tr>\n",
       "      <th>lance/tictactoe.py</th>\n",
       "      <td>7</td>\n",
       "    </tr>\n",
       "  </tbody>\n",
       "</table>\n",
       "</div>"
      ],
      "text/plain": [
       "                         0\n",
       "pj/think_ahead_bot.py   59\n",
       "pj/win_or_block_bot.py  56\n",
       "bekk/getem.py           45\n",
       "pj/random_bot.py        21\n",
       "pj/annoy_bot.py         11\n",
       "lance/worse_bot.py      11\n",
       "erik/logicbot.py         8\n",
       "lance/tictactoe.py       7"
      ]
     },
     "execution_count": 79,
     "metadata": {},
     "output_type": "execute_result"
    }
   ],
   "source": [
    "o_ties_frame = data.O[data.Winner == \"tie\"].value_counts().to_frame()\n",
    "o_ties_frame"
   ]
  },
  {
   "cell_type": "code",
   "execution_count": 85,
   "metadata": {
    "collapsed": false
   },
   "outputs": [],
   "source": [
    "biggest_df = pd.merge(even_bigger_df, o_ties_frame, left_index=True, right_index=True)"
   ]
  },
  {
   "cell_type": "code",
   "execution_count": 86,
   "metadata": {
    "collapsed": false
   },
   "outputs": [],
   "source": [
    "biggest_df.columns = [\"X Wins\", \"O Wins\", \"X Ties\", \"O Ties\"]"
   ]
  },
  {
   "cell_type": "code",
   "execution_count": 90,
   "metadata": {
    "collapsed": false
   },
   "outputs": [
    {
     "data": {
      "text/plain": [
       "<matplotlib.axes._subplots.AxesSubplot at 0x10f4436a0>"
      ]
     },
     "execution_count": 90,
     "metadata": {},
     "output_type": "execute_result"
    },
    {
     "data": {
      "image/png": "[encoded data removed]",
      "text/plain": [
       "<matplotlib.figure.Figure at 0x1075ce390>"
      ]
     },
     "metadata": {},
     "output_type": "display_data"
    }
   ],
   "source": [
    "biggest_df.plot(kind=\"barh\")"
   ]
  },
  {
   "cell_type": "code",
   "execution_count": null,
   "metadata": {
    "collapsed": true
   },
   "outputs": [],
   "source": []
  }
 ],
 "metadata": {
  "kernelspec": {
   "display_name": "Python 3",
   "language": "python",
   "name": "python3"
  },
  "language_info": {
   "codemirror_mode": {
    "name": "ipython",
    "version": 3
   },
   "file_extension": ".py",
   "mimetype": "text/x-python",
   "name": "python",
   "nbconvert_exporter": "python",
   "pygments_lexer": "ipython3",
   "version": "3.4.3"
  }
 },
 "nbformat": 4,
 "nbformat_minor": 0
}
