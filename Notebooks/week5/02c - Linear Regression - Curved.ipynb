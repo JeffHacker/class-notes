{
 "cells": [
  {
   "cell_type": "code",
   "execution_count": null,
   "metadata": {
    "collapsed": false
   },
   "outputs": [],
   "source": [
    "import pandas as pd\n",
    "import matplotlib.pyplot as plt\n",
    "import numpy as np\n",
    "import seaborn as sns\n",
    "from sklearn import linear_model\n",
    "sns.set_style(\"whitegrid\")"
   ]
  },
  {
   "cell_type": "code",
   "execution_count": null,
   "metadata": {
    "collapsed": false
   },
   "outputs": [],
   "source": [
    "%matplotlib inline"
   ]
  },
  {
   "cell_type": "code",
   "execution_count": null,
   "metadata": {
    "collapsed": false
   },
   "outputs": [],
   "source": [
    "summary = pd.read_csv(\"atussum_2013.dat\")\n",
    "summary.info()\n",
    "\n",
    "def activity_by_age(df, activity_code, subsample=True):\n",
    "    activity_col = \"t{}\".format(activity_code)\n",
    "    df = df[['TUFINLWGT', 'TEAGE', activity_col]]\n",
    "    df = df.rename(columns={\"TUFINLWGT\": \"weight\", \"TEAGE\": \"age\", activity_col: \"minutes\"})\n",
    "    if subsample:\n",
    "        df = df[df.age % 5 == 0]\n",
    "    df['weighted_minutes'] = df.weight * df.minutes\n",
    "    df = df.groupby(\"age\").sum()\n",
    "    df['mean_minutes'] = df.weighted_minutes / df.weight\n",
    "    df = df[['mean_minutes']]\n",
    "    return df\n",
    "\n",
    "def linear_least_squares(df, fn):\n",
    "    values = df.index.map(fn)\n",
    "    diffs = df.mean_minutes - values\n",
    "    diffs_squared = diffs ** 2\n",
    "    return diffs_squared.sum() / (2 * len(diffs)) "
   ]
  },
  {
   "cell_type": "code",
   "execution_count": null,
   "metadata": {
    "collapsed": false
   },
   "outputs": [],
   "source": [
    "sleep_data = summary[['TUFINLWGT', 'TEAGE', 'TESEX', 't010101']]\n",
    "sleep_data = sleep_data.rename(columns={\"TUFINLWGT\": \"weight\", \"TEAGE\": \"age\", \"TESEX\": \"sex\", \"t010101\": \"minutes\"})\n",
    "sleep_data['weighted_minutes'] = sleep_data.weight * sleep_data.minutes\n",
    "sleep_data.info()"
   ]
  },
  {
   "cell_type": "code",
   "execution_count": null,
   "metadata": {
    "collapsed": false
   },
   "outputs": [],
   "source": [
    "sleep_by_age = sleep_data.groupby(\"age\").sum()\n",
    "sleep_by_age.head()"
   ]
  },
  {
   "cell_type": "code",
   "execution_count": null,
   "metadata": {
    "collapsed": false
   },
   "outputs": [],
   "source": [
    "sleep_by_age['mean_minutes'] = sleep_by_age.weighted_minutes / sleep_by_age.weight\n",
    "sleep_by_age.head()"
   ]
  },
  {
   "cell_type": "code",
   "execution_count": null,
   "metadata": {
    "collapsed": false
   },
   "outputs": [],
   "source": [
    "sleep_by_age.loc[38].mean_minutes / 60"
   ]
  },
  {
   "cell_type": "code",
   "execution_count": null,
   "metadata": {
    "collapsed": false
   },
   "outputs": [],
   "source": [
    "plt.scatter(sleep_by_age.index, sleep_by_age.mean_minutes)"
   ]
  },
  {
   "cell_type": "code",
   "execution_count": null,
   "metadata": {
    "collapsed": false
   },
   "outputs": [],
   "source": [
    "regression = linear_model.LinearRegression()\n",
    "transposed_sleep_values = np.array(sleep_by_age.index.values).reshape((-1, 1))\n",
    "regression.fit(transposed_sleep_values, sleep_by_age.mean_minutes.values)\n",
    "print(regression.coef_, regression.intercept_)"
   ]
  },
  {
   "cell_type": "code",
   "execution_count": null,
   "metadata": {
    "collapsed": true
   },
   "outputs": [],
   "source": [
    "def plot_regression(fn):\n",
    "    plt.scatter(sleep_by_age.index, sleep_by_age.mean_minutes)\n",
    "    xmin, xmax = plt.xlim()\n",
    "    xs = np.linspace(xmin, xmax, 100)\n",
    "    plt.plot(xs, [fn(x) for x in xs])"
   ]
  },
  {
   "cell_type": "code",
   "execution_count": null,
   "metadata": {
    "collapsed": false
   },
   "outputs": [],
   "source": [
    "fn = lambda x: regression.predict(x)[0]\n",
    "\n",
    "plot_regression(fn)"
   ]
  },
  {
   "cell_type": "code",
   "execution_count": null,
   "metadata": {
    "collapsed": false
   },
   "outputs": [],
   "source": [
    "from sklearn.preprocessing import PolynomialFeatures\n",
    "from sklearn.linear_model import LinearRegression\n",
    "from sklearn.pipeline import Pipeline"
   ]
  },
  {
   "cell_type": "code",
   "execution_count": null,
   "metadata": {
    "collapsed": false
   },
   "outputs": [],
   "source": [
    "model = Pipeline([('poly', PolynomialFeatures(degree=2)),\n",
    "                  ('linear', LinearRegression(fit_intercept=False))])\n",
    "model = model.fit(np.array(sleep_by_age.index.values).reshape((-1, 1)), \n",
    "                  sleep_by_age.mean_minutes.values)\n",
    "\n",
    "print(model.named_steps['linear'].coef_)"
   ]
  },
  {
   "cell_type": "code",
   "execution_count": null,
   "metadata": {
    "collapsed": false
   },
   "outputs": [],
   "source": [
    "fn = lambda x: model.predict(x)[0]\n",
    "plot_regression(fn)"
   ]
  },
  {
   "cell_type": "code",
   "execution_count": null,
   "metadata": {
    "collapsed": false
   },
   "outputs": [],
   "source": [
    "model.predict(38) / 60"
   ]
  },
  {
   "cell_type": "code",
   "execution_count": null,
   "metadata": {
    "collapsed": false
   },
   "outputs": [],
   "source": [
    "model.predict(50) / 60"
   ]
  },
  {
   "cell_type": "code",
   "execution_count": null,
   "metadata": {
    "collapsed": false
   },
   "outputs": [],
   "source": [
    "model = Pipeline([('poly', PolynomialFeatures(degree=0)),\n",
    "                  ('linear', LinearRegression(fit_intercept=False))])\n",
    "model = model.fit(np.array(sleep_by_age.index.values).reshape((-1, 1)), \n",
    "                  sleep_by_age.mean_minutes.values)\n",
    "\n",
    "\n",
    "print(model.named_steps['linear'].coef_)\n",
    "\n",
    "fn = lambda x: model.predict(x)[0]\n",
    "\n",
    "plot_regression(fn)"
   ]
  },
  {
   "cell_type": "code",
   "execution_count": null,
   "metadata": {
    "collapsed": false
   },
   "outputs": [],
   "source": [
    "model = Pipeline([('poly', PolynomialFeatures(degree=1)),\n",
    "                  ('linear', LinearRegression(fit_intercept=False))])\n",
    "model = model.fit(np.array(sleep_by_age.index.values).reshape((-1, 1)), \n",
    "                  sleep_by_age.mean_minutes.values)\n",
    "\n",
    "print(model.named_steps['linear'].coef_)\n",
    "\n",
    "fn = lambda x: model.predict(x)[0]\n",
    "\n",
    "plot_regression(fn)"
   ]
  },
  {
   "cell_type": "code",
   "execution_count": null,
   "metadata": {
    "collapsed": false
   },
   "outputs": [],
   "source": [
    "\n",
    "from sklearn.linear_model import Ridge\n",
    "model = Pipeline([('poly', PolynomialFeatures(degree=5)),\n",
    "                  ('linear', Ridge())])\n",
    "model = model.fit(np.array(sleep_by_age.index.values).reshape((-1, 1)), \n",
    "                  sleep_by_age.mean_minutes.values)\n",
    "\n",
    "print(model.named_steps['linear'].coef_)\n",
    "fn = lambda x: model.predict(x)[0]\n",
    "\n",
    "plot_regression(fn)"
   ]
  },
  {
   "cell_type": "code",
   "execution_count": null,
   "metadata": {
    "collapsed": true
   },
   "outputs": [],
   "source": []
  }
 ],
 "metadata": {
  "kernelspec": {
   "display_name": "Python 3",
   "language": "python",
   "name": "python3"
  },
  "language_info": {
   "codemirror_mode": {
    "name": "ipython",
    "version": 3
   },
   "file_extension": ".py",
   "mimetype": "text/x-python",
   "name": "python",
   "nbconvert_exporter": "python",
   "pygments_lexer": "ipython3",
   "version": "3.4.3"
  }
 },
 "nbformat": 4,
 "nbformat_minor": 0
}
