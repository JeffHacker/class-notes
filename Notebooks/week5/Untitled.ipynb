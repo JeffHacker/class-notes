{
 "cells": [
  {
   "cell_type": "code",
   "execution_count": 3,
   "metadata": {
    "collapsed": false
   },
   "outputs": [],
   "source": [
    "import pandas as pd\n",
    "import numpy as np\n",
    "import matplotlib.pyplot as plt"
   ]
  },
  {
   "cell_type": "code",
   "execution_count": 4,
   "metadata": {
    "collapsed": false
   },
   "outputs": [],
   "source": [
    "%matplotlib inline"
   ]
  },
  {
   "cell_type": "code",
   "execution_count": 11,
   "metadata": {
    "collapsed": false
   },
   "outputs": [],
   "source": [
    "country_data = pd.read_csv(\"world_data/world_data.csv\") \\\n",
    "                .rename(columns={'\\ufeffCountry Name': \"Country Name\"}) \\\n",
    "                .dropna(thresh=2)"
   ]
  },
  {
   "cell_type": "code",
   "execution_count": 12,
   "metadata": {
    "collapsed": false
   },
   "outputs": [
    {
     "name": "stdout",
     "output_type": "stream",
     "text": [
      "<class 'pandas.core.frame.DataFrame'>\n",
      "Int64Index: 1070 entries, 0 to 1069\n",
      "Data columns (total 6 columns):\n",
      "Country Name     1070 non-null object\n",
      "Country Code     1070 non-null object\n",
      "Series Name      1070 non-null object\n",
      "Series Code      1070 non-null object\n",
      "2000 [YR2000]    928 non-null float64\n",
      "2013 [YR2013]    445 non-null float64\n",
      "dtypes: float64(2), object(4)\n",
      "memory usage: 58.5+ KB\n"
     ]
    }
   ],
   "source": [
    "country_data.info()"
   ]
  },
  {
   "cell_type": "code",
   "execution_count": 13,
   "metadata": {
    "collapsed": false
   },
   "outputs": [
    {
     "data": {
      "text/html": [
       "<div>\n",
       "<table border=\"1\" class=\"dataframe\">\n",
       "  <thead>\n",
       "    <tr style=\"text-align: right;\">\n",
       "      <th></th>\n",
       "      <th>Country Name</th>\n",
       "      <th>Country Code</th>\n",
       "      <th>Series Name</th>\n",
       "      <th>Series Code</th>\n",
       "      <th>2000 [YR2000]</th>\n",
       "      <th>2013 [YR2013]</th>\n",
       "    </tr>\n",
       "  </thead>\n",
       "  <tbody>\n",
       "    <tr>\n",
       "      <th>0</th>\n",
       "      <td>Afghanistan</td>\n",
       "      <td>AFG</td>\n",
       "      <td>School enrollment, secondary (% gross)</td>\n",
       "      <td>SE.SEC.ENRR</td>\n",
       "      <td>NaN</td>\n",
       "      <td>54.310841</td>\n",
       "    </tr>\n",
       "    <tr>\n",
       "      <th>1</th>\n",
       "      <td>Afghanistan</td>\n",
       "      <td>AFG</td>\n",
       "      <td>Life expectancy at birth, total (years)</td>\n",
       "      <td>SP.DYN.LE00.IN</td>\n",
       "      <td>54.848561</td>\n",
       "      <td>60.931415</td>\n",
       "    </tr>\n",
       "    <tr>\n",
       "      <th>2</th>\n",
       "      <td>Afghanistan</td>\n",
       "      <td>AFG</td>\n",
       "      <td>Improved sanitation facilities (% of populatio...</td>\n",
       "      <td>SH.STA.ACSN</td>\n",
       "      <td>23.200000</td>\n",
       "      <td>NaN</td>\n",
       "    </tr>\n",
       "    <tr>\n",
       "      <th>3</th>\n",
       "      <td>Afghanistan</td>\n",
       "      <td>AFG</td>\n",
       "      <td>Improved water source (% of population with ac...</td>\n",
       "      <td>SH.H2O.SAFE.ZS</td>\n",
       "      <td>22.100000</td>\n",
       "      <td>NaN</td>\n",
       "    </tr>\n",
       "    <tr>\n",
       "      <th>4</th>\n",
       "      <td>Afghanistan</td>\n",
       "      <td>AFG</td>\n",
       "      <td>Immunization, measles (% of children ages 12-2...</td>\n",
       "      <td>SH.IMM.MEAS</td>\n",
       "      <td>27.000000</td>\n",
       "      <td>75.000000</td>\n",
       "    </tr>\n",
       "  </tbody>\n",
       "</table>\n",
       "</div>"
      ],
      "text/plain": [
       "  Country Name Country Code  \\\n",
       "0  Afghanistan          AFG   \n",
       "1  Afghanistan          AFG   \n",
       "2  Afghanistan          AFG   \n",
       "3  Afghanistan          AFG   \n",
       "4  Afghanistan          AFG   \n",
       "\n",
       "                                         Series Name     Series Code  \\\n",
       "0             School enrollment, secondary (% gross)     SE.SEC.ENRR   \n",
       "1            Life expectancy at birth, total (years)  SP.DYN.LE00.IN   \n",
       "2  Improved sanitation facilities (% of populatio...     SH.STA.ACSN   \n",
       "3  Improved water source (% of population with ac...  SH.H2O.SAFE.ZS   \n",
       "4  Immunization, measles (% of children ages 12-2...     SH.IMM.MEAS   \n",
       "\n",
       "   2000 [YR2000]  2013 [YR2013]  \n",
       "0            NaN      54.310841  \n",
       "1      54.848561      60.931415  \n",
       "2      23.200000            NaN  \n",
       "3      22.100000            NaN  \n",
       "4      27.000000      75.000000  "
      ]
     },
     "execution_count": 13,
     "metadata": {},
     "output_type": "execute_result"
    }
   ],
   "source": [
    "country_data.head()"
   ]
  },
  {
   "cell_type": "code",
   "execution_count": 14,
   "metadata": {
    "collapsed": true
   },
   "outputs": [],
   "source": [
    "indicators = country_data.pivot_table(index=\"Country Name\", columns=\"Series Name\", values=\"2000 [YR2000]\")"
   ]
  },
  {
   "cell_type": "code",
   "execution_count": 16,
   "metadata": {
    "collapsed": false
   },
   "outputs": [
    {
     "data": {
      "text/html": [
       "<div>\n",
       "<table border=\"1\" class=\"dataframe\">\n",
       "  <thead>\n",
       "    <tr style=\"text-align: right;\">\n",
       "      <th>Series Name</th>\n",
       "      <th>Immunization, measles (% of children ages 12-23 months)</th>\n",
       "      <th>Improved sanitation facilities (% of population with access)</th>\n",
       "      <th>Improved water source (% of population with access)</th>\n",
       "      <th>Life expectancy at birth, total (years)</th>\n",
       "      <th>School enrollment, secondary (% gross)</th>\n",
       "    </tr>\n",
       "    <tr>\n",
       "      <th>Country Name</th>\n",
       "      <th></th>\n",
       "      <th></th>\n",
       "      <th></th>\n",
       "      <th></th>\n",
       "      <th></th>\n",
       "    </tr>\n",
       "  </thead>\n",
       "  <tbody>\n",
       "    <tr>\n",
       "      <th>Afghanistan</th>\n",
       "      <td>27</td>\n",
       "      <td>23.2</td>\n",
       "      <td>22.1</td>\n",
       "      <td>54.848561</td>\n",
       "      <td>NaN</td>\n",
       "    </tr>\n",
       "    <tr>\n",
       "      <th>Albania</th>\n",
       "      <td>95</td>\n",
       "      <td>83.8</td>\n",
       "      <td>96.5</td>\n",
       "      <td>74.272073</td>\n",
       "      <td>66.67894</td>\n",
       "    </tr>\n",
       "  </tbody>\n",
       "</table>\n",
       "</div>"
      ],
      "text/plain": [
       "Series Name   Immunization, measles (% of children ages 12-23 months)  \\\n",
       "Country Name                                                            \n",
       "Afghanistan                                                  27         \n",
       "Albania                                                      95         \n",
       "\n",
       "Series Name   Improved sanitation facilities (% of population with access)  \\\n",
       "Country Name                                                                 \n",
       "Afghanistan                                                23.2              \n",
       "Albania                                                    83.8              \n",
       "\n",
       "Series Name   Improved water source (% of population with access)  \\\n",
       "Country Name                                                        \n",
       "Afghanistan                                                22.1     \n",
       "Albania                                                    96.5     \n",
       "\n",
       "Series Name   Life expectancy at birth, total (years)  \\\n",
       "Country Name                                            \n",
       "Afghanistan                                 54.848561   \n",
       "Albania                                     74.272073   \n",
       "\n",
       "Series Name   School enrollment, secondary (% gross)  \n",
       "Country Name                                          \n",
       "Afghanistan                                      NaN  \n",
       "Albania                                     66.67894  "
      ]
     },
     "execution_count": 16,
     "metadata": {},
     "output_type": "execute_result"
    }
   ],
   "source": [
    "indicators.head(2)"
   ]
  },
  {
   "cell_type": "code",
   "execution_count": null,
   "metadata": {
    "collapsed": true
   },
   "outputs": [],
   "source": []
  },
  {
   "cell_type": "code",
   "execution_count": null,
   "metadata": {
    "collapsed": true
   },
   "outputs": [],
   "source": []
  },
  {
   "cell_type": "code",
   "execution_count": null,
   "metadata": {
    "collapsed": true
   },
   "outputs": [],
   "source": []
  },
  {
   "cell_type": "code",
   "execution_count": null,
   "metadata": {
    "collapsed": true
   },
   "outputs": [],
   "source": []
  },
  {
   "cell_type": "code",
   "execution_count": null,
   "metadata": {
    "collapsed": true
   },
   "outputs": [],
   "source": []
  },
  {
   "cell_type": "code",
   "execution_count": null,
   "metadata": {
    "collapsed": true
   },
   "outputs": [],
   "source": []
  },
  {
   "cell_type": "code",
   "execution_count": null,
   "metadata": {
    "collapsed": true
   },
   "outputs": [],
   "source": []
  },
  {
   "cell_type": "code",
   "execution_count": null,
   "metadata": {
    "collapsed": true
   },
   "outputs": [],
   "source": []
  },
  {
   "cell_type": "code",
   "execution_count": null,
   "metadata": {
    "collapsed": true
   },
   "outputs": [],
   "source": []
  },
  {
   "cell_type": "code",
   "execution_count": null,
   "metadata": {
    "collapsed": true
   },
   "outputs": [],
   "source": []
  },
  {
   "cell_type": "code",
   "execution_count": null,
   "metadata": {
    "collapsed": true
   },
   "outputs": [],
   "source": []
  },
  {
   "cell_type": "code",
   "execution_count": null,
   "metadata": {
    "collapsed": true
   },
   "outputs": [],
   "source": []
  },
  {
   "cell_type": "code",
   "execution_count": null,
   "metadata": {
    "collapsed": true
   },
   "outputs": [],
   "source": []
  },
  {
   "cell_type": "code",
   "execution_count": null,
   "metadata": {
    "collapsed": true
   },
   "outputs": [],
   "source": []
  },
  {
   "cell_type": "code",
   "execution_count": null,
   "metadata": {
    "collapsed": true
   },
   "outputs": [],
   "source": []
  },
  {
   "cell_type": "code",
   "execution_count": null,
   "metadata": {
    "collapsed": true
   },
   "outputs": [],
   "source": []
  },
  {
   "cell_type": "code",
   "execution_count": null,
   "metadata": {
    "collapsed": true
   },
   "outputs": [],
   "source": []
  }
 ],
 "metadata": {
  "kernelspec": {
   "display_name": "Python 3",
   "language": "python",
   "name": "python3"
  },
  "language_info": {
   "codemirror_mode": {
    "name": "ipython",
    "version": 3
   },
   "file_extension": ".py",
   "mimetype": "text/x-python",
   "name": "python",
   "nbconvert_exporter": "python",
   "pygments_lexer": "ipython3",
   "version": "3.4.3"
  }
 },
 "nbformat": 4,
 "nbformat_minor": 0
}
