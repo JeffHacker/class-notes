{
 "cells": [
  {
   "cell_type": "code",
   "execution_count": null,
   "metadata": {
    "collapsed": true
   },
   "outputs": [],
   "source": [
    "import pandas as pd\n",
    "import numpy as np\n",
    "import matplotlib.pyplot as plt"
   ]
  },
  {
   "cell_type": "code",
   "execution_count": null,
   "metadata": {
    "collapsed": true
   },
   "outputs": [],
   "source": [
    "%matplotlib inline"
   ]
  },
  {
   "cell_type": "markdown",
   "metadata": {},
   "source": [
    "Let's read in some world data"
   ]
  },
  {
   "cell_type": "code",
   "execution_count": null,
   "metadata": {
    "collapsed": false
   },
   "outputs": [],
   "source": [
    "country_data = pd.read_csv(\"world_data/world_data.csv\") \\\n",
    "                .rename(columns={'\\ufeffCountry Name': \"Country Name\"}) \\\n",
    "                .dropna(thresh=2)\n"
   ]
  },
  {
   "cell_type": "code",
   "execution_count": null,
   "metadata": {
    "collapsed": false
   },
   "outputs": [],
   "source": [
    "country_data.info()"
   ]
  },
  {
   "cell_type": "code",
   "execution_count": null,
   "metadata": {
    "collapsed": false
   },
   "outputs": [],
   "source": [
    "country_data.head()"
   ]
  },
  {
   "cell_type": "markdown",
   "metadata": {},
   "source": [
    "Pivot the table to group countries over to the index while setting the columns from the `Series Name` with the values from the Y2k"
   ]
  },
  {
   "cell_type": "code",
   "execution_count": null,
   "metadata": {
    "collapsed": true
   },
   "outputs": [],
   "source": [
    "indicators = country_data.pivot_table(index=\"Country Name\", \n",
    "                                      columns=\"Series Name\", \n",
    "                                      values=\"2000 [YR2000]\")"
   ]
  },
  {
   "cell_type": "markdown",
   "metadata": {},
   "source": [
    "For now we want to narrow our scope down to just a single X and a single Y."
   ]
  },
  {
   "cell_type": "code",
   "execution_count": null,
   "metadata": {
    "collapsed": false
   },
   "outputs": [],
   "source": [
    "indicators[['School enrollment, secondary (% gross)',\n",
    "            'Life expectancy at birth, total (years)']].dropna(thresh=2).head()"
   ]
  },
  {
   "cell_type": "code",
   "execution_count": null,
   "metadata": {
    "collapsed": false
   },
   "outputs": [],
   "source": [
    "plt.scatter(indicators['School enrollment, secondary (% gross)'], \n",
    "            indicators['Life expectancy at birth, total (years)'])\n",
    "plt.show()"
   ]
  },
  {
   "cell_type": "markdown",
   "metadata": {
    "collapsed": false
   },
   "source": [
    "Now how about a little scikit-learn!?"
   ]
  },
  {
   "cell_type": "code",
   "execution_count": null,
   "metadata": {
    "collapsed": true
   },
   "outputs": [],
   "source": [
    "from sklearn import linear_model"
   ]
  },
  {
   "cell_type": "markdown",
   "metadata": {},
   "source": [
    "Lets get our X and Y\n",
    "\n",
    " - X -> School Enrollment in secondary level education\n",
    " - Y -> Life Expectancy at birth"
   ]
  },
  {
   "cell_type": "code",
   "execution_count": null,
   "metadata": {
    "collapsed": false
   },
   "outputs": [],
   "source": [
    "df = indicators.loc[:, ['School enrollment, secondary (% gross)', \n",
    "                        'Life expectancy at birth, total (years)']]\n",
    "df.dropna(inplace=True)\n",
    "input_data = df[['School enrollment, secondary (% gross)']]\n",
    "life_expectancy = df['Life expectancy at birth, total (years)']"
   ]
  },
  {
   "cell_type": "markdown",
   "metadata": {},
   "source": [
    "Create a new `LinearRegression` classifier and fit our data (from above) into our model.\n",
    "\n",
    "We can print relevant data to this model once our model has been fit."
   ]
  },
  {
   "cell_type": "code",
   "execution_count": null,
   "metadata": {
    "collapsed": false
   },
   "outputs": [],
   "source": [
    "regr1 = linear_model.LinearRegression()\n",
    "regr1.fit(input_data, life_expectancy)\n",
    "print('Coefficients: \\n', regr1.coef_)\n",
    "print(regr1.score(input_data, life_expectancy))"
   ]
  },
  {
   "cell_type": "markdown",
   "metadata": {},
   "source": [
    "PLOTS!"
   ]
  },
  {
   "cell_type": "code",
   "execution_count": null,
   "metadata": {
    "collapsed": false
   },
   "outputs": [],
   "source": [
    "plt.scatter(input_data, life_expectancy,  color='black')\n",
    "plt.plot(input_data, regr1.predict(input_data), color='blue', linewidth=3)"
   ]
  },
  {
   "cell_type": "markdown",
   "metadata": {},
   "source": [
    "This is how we can predict specific values on our model:"
   ]
  },
  {
   "cell_type": "code",
   "execution_count": null,
   "metadata": {
    "collapsed": false
   },
   "outputs": [],
   "source": [
    "regr1.predict(80)"
   ]
  },
  {
   "cell_type": "markdown",
   "metadata": {},
   "source": [
    "A single X and Y are fun and and simple - BUT BORING!  We can create a new DF and create a new X and Y that contain multiple feature vectors.\n",
    "\n",
    "In the case below we will fit Sanitation Facilities & Access to Water sources with the Life Expectancy. Cool stuff eh?"
   ]
  },
  {
   "cell_type": "code",
   "execution_count": null,
   "metadata": {
    "collapsed": true
   },
   "outputs": [],
   "source": [
    "df = indicators.loc[:, ['Improved sanitation facilities (% of population with access)',\n",
    "                        'Improved water source (% of population with access)',\n",
    "                        'Life expectancy at birth, total (years)']]\n",
    "df.dropna(inplace=True)\n",
    "input_data = df[['Improved sanitation facilities (% of population with access)',\n",
    "                 'Improved water source (% of population with access)']]\n",
    "life_expectancy = df['Life expectancy at birth, total (years)']"
   ]
  },
  {
   "cell_type": "markdown",
   "metadata": {},
   "source": [
    "Taking our `input_data` and `life_expectancy` from above we can fit a new `LinearRegression` model to our new data and get relevant information about it."
   ]
  },
  {
   "cell_type": "code",
   "execution_count": null,
   "metadata": {
    "collapsed": false
   },
   "outputs": [],
   "source": [
    "regr2 = linear_model.LinearRegression()\n",
    "indicators.loc[:, ['Improved sanitation facilities (% of population with access)']]\n",
    "fit = regr2.fit(input_data, life_expectancy)\n",
    "print('Coefficients: \\n', regr2.coef_)\n",
    "print(regr2.score(input_data, life_expectancy))"
   ]
  },
  {
   "cell_type": "markdown",
   "metadata": {},
   "source": [
    "Since we are fitting on multiple dimensions we can even do a 3d plot. 3d Plots don't tell an incredible amount of information to the lay-man but they sure look cool."
   ]
  },
  {
   "cell_type": "code",
   "execution_count": null,
   "metadata": {
    "collapsed": false
   },
   "outputs": [],
   "source": [
    "from mpl_toolkits.mplot3d import Axes3D\n",
    "fig = plt.figure()\n",
    "ax = fig.add_subplot(111, projection='3d')\n",
    "xx = input_data['Improved sanitation facilities (% of population with access)']\n",
    "yy = input_data['Improved water source (% of population with access)']\n",
    "zz = life_expectancy\n",
    "predict = regr2.predict(input_data)\n",
    "x_surf, y_surf = np.meshgrid(xx, yy)\n",
    "ax.plot_surface(x_surf, y_surf, predict, color=\"red\", alpha=0.1)\n",
    "ax.scatter(xx, yy, zz)"
   ]
  },
  {
   "cell_type": "markdown",
   "metadata": {},
   "source": [
    "With multiple X's how do we predict on those?  Easy! Pass a feature vector representing %'s of their respective category and our model will predict the life expectancy based on those values."
   ]
  },
  {
   "cell_type": "code",
   "execution_count": null,
   "metadata": {
    "collapsed": false
   },
   "outputs": [],
   "source": [
    "print(regr2.predict([80, 80]))\n",
    "print(regr2.predict([85, 80]))\n",
    "print(regr2.predict([80, 85]))\n",
    "print(regr2.predict([82.5, 82.5]))"
   ]
  },
  {
   "cell_type": "markdown",
   "metadata": {},
   "source": [
    "Notice we just multiply the vectors together to get the `xx` variable.  Our `yy` remains as the life expectancy."
   ]
  },
  {
   "cell_type": "code",
   "execution_count": null,
   "metadata": {
    "collapsed": false
   },
   "outputs": [],
   "source": [
    "x1 = input_data['Improved sanitation facilities (% of population with access)']\n",
    "x2 = input_data['Improved water source (% of population with access)']\n",
    "yy = life_expectancy\n",
    "predict = regr2.predict(input_data)\n",
    "xx = x1 * x2\n",
    "plt.scatter(xx, yy,  color='black')\n",
    "plt.plot((min(xx), max(xx)), (min(predict), max(predict)), color='blue', linewidth=3)"
   ]
  },
  {
   "cell_type": "markdown",
   "metadata": {},
   "source": [
    "Adding another dimension is as easy too!  Lets add our school enrollment back in and see how that affects things."
   ]
  },
  {
   "cell_type": "code",
   "execution_count": null,
   "metadata": {
    "collapsed": true
   },
   "outputs": [],
   "source": [
    "df = indicators.loc[:, ['School enrollment, secondary (% gross)',\n",
    "                        'Improved sanitation facilities (% of population with access)',\n",
    "                        'Improved water source (% of population with access)',\n",
    "                        'Life expectancy at birth, total (years)']]\n",
    "df.dropna(inplace=True)\n",
    "input_data = df[['School enrollment, secondary (% gross)', \n",
    "                 'Improved sanitation facilities (% of population with access)',\n",
    "                 'Improved water source (% of population with access)']]\n",
    "life_expectancy = df['Life expectancy at birth, total (years)']"
   ]
  },
  {
   "cell_type": "code",
   "execution_count": null,
   "metadata": {
    "collapsed": false
   },
   "outputs": [],
   "source": [
    "regr3 = linear_model.LinearRegression()\n",
    "fit = regr3.fit(input_data, life_expectancy)\n",
    "print(regr3.score(input_data, life_expectancy))"
   ]
  },
  {
   "cell_type": "markdown",
   "metadata": {},
   "source": [
    "What can we precict with this new model?"
   ]
  },
  {
   "cell_type": "code",
   "execution_count": null,
   "metadata": {
    "collapsed": true
   },
   "outputs": [],
   "source": []
  },
  {
   "cell_type": "code",
   "execution_count": null,
   "metadata": {
    "collapsed": false
   },
   "outputs": [],
   "source": [
    "df = indicators.loc[:, ['School enrollment, secondary (% gross)',\n",
    "                        'Immunization, measles (% of children ages 12-23 months)',\n",
    "                        'Improved sanitation facilities (% of population with access)',\n",
    "                        'Improved water source (% of population with access)',\n",
    "                        'Life expectancy at birth, total (years)']]\n",
    "df.dropna(inplace=True)\n",
    "input_data = df[['School enrollment, secondary (% gross)', \n",
    "                 'Immunization, measles (% of children ages 12-23 months)',\n",
    "                 'Improved sanitation facilities (% of population with access)',\n",
    "                 'Improved water source (% of population with access)']]\n",
    "life_expectancy = df['Life expectancy at birth, total (years)']\n",
    "regr4 = linear_model.LinearRegression()\n",
    "fit = regr4.fit(input_data, life_expectancy)\n",
    "print(regr4.score(input_data, life_expectancy))"
   ]
  },
  {
   "cell_type": "markdown",
   "metadata": {},
   "source": [
    "## Automating picking the best features"
   ]
  },
  {
   "cell_type": "code",
   "execution_count": null,
   "metadata": {
    "collapsed": false
   },
   "outputs": [],
   "source": [
    "import itertools\n",
    "dependent_vars = list(indicators.columns)\n",
    "dependent_vars.remove('Life expectancy at birth, total (years)')\n",
    "combos = list(itertools.combinations(dependent_vars, 2))"
   ]
  },
  {
   "cell_type": "code",
   "execution_count": null,
   "metadata": {
    "collapsed": false
   },
   "outputs": [],
   "source": [
    "choices = []\n",
    "\n",
    "def regression_for(combo):\n",
    "    combo = list(combo)\n",
    "    df = indicators.loc[:, combo + ['Life expectancy at birth, total (years)']]\n",
    "    df.dropna(inplace=True)\n",
    "    input_data = df[combo]\n",
    "    life_expectancy = df['Life expectancy at birth, total (years)']\n",
    "    regr = linear_model.LinearRegression()\n",
    "    regr.fit(input_data, life_expectancy)\n",
    "    return regr, regr.score(input_data, life_expectancy)\n",
    "\n",
    "for combo in combos:\n",
    "    regr, score = regression_for(combo)\n",
    "    choices.append((combo, score))\n",
    "                   \n",
    "best = sorted(choices, key=lambda x: x[1])[-1]\n",
    "print(best)\n",
    "regr, score = regression_for(best[0])\n",
    "print(regr.coef_, regr.intercept_)"
   ]
  },
  {
   "cell_type": "code",
   "execution_count": null,
   "metadata": {
    "collapsed": true
   },
   "outputs": [],
   "source": []
  }
 ],
 "metadata": {
  "kernelspec": {
   "display_name": "Python 3",
   "language": "python",
   "name": "python3"
  },
  "language_info": {
   "codemirror_mode": {
    "name": "ipython",
    "version": 3
   },
   "file_extension": ".py",
   "mimetype": "text/x-python",
   "name": "python",
   "nbconvert_exporter": "python",
   "pygments_lexer": "ipython3",
   "version": "3.4.3"
  }
 },
 "nbformat": 4,
 "nbformat_minor": 0
}
