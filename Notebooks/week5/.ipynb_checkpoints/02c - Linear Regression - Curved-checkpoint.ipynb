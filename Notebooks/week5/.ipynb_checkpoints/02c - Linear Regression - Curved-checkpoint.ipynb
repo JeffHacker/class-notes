{
 "cells": [
  {
   "cell_type": "code",
   "execution_count": 1,
   "metadata": {
    "collapsed": false
   },
   "outputs": [],
   "source": [
    "import pandas as pd\n",
    "import matplotlib.pyplot as plt\n",
    "import numpy as np\n",
    "import seaborn as sns\n",
    "from sklearn import linear_model\n",
    "sns.set_style(\"whitegrid\")"
   ]
  },
  {
   "cell_type": "code",
   "execution_count": 2,
   "metadata": {
    "collapsed": false
   },
   "outputs": [],
   "source": [
    "%matplotlib inline"
   ]
  },
  {
   "cell_type": "code",
   "execution_count": 3,
   "metadata": {
    "collapsed": false
   },
   "outputs": [
    {
     "name": "stdout",
     "output_type": "stream",
     "text": [
      "<class 'pandas.core.frame.DataFrame'>\n",
      "Int64Index: 11385 entries, 0 to 11384\n",
      "Columns: 413 entries, tucaseid to t500107\n",
      "dtypes: float64(1), int64(412)\n",
      "memory usage: 36.0 MB\n"
     ]
    }
   ],
   "source": [
    "summary = pd.read_csv(\"atussum_2013.dat\")\n",
    "summary.info()\n",
    "\n",
    "def activity_by_age(df, activity_code, subsample=True):\n",
    "    activity_col = \"t{}\".format(activity_code)\n",
    "    df = df[['TUFINLWGT', 'TEAGE', activity_col]]\n",
    "    df = df.rename(columns={\"TUFINLWGT\": \"weight\", \"TEAGE\": \"age\", activity_col: \"minutes\"})\n",
    "    if subsample:\n",
    "        df = df[df.age % 5 == 0]\n",
    "    df['weighted_minutes'] = df.weight * df.minutes\n",
    "    df = df.groupby(\"age\").sum()\n",
    "    df['mean_minutes'] = df.weighted_minutes / df.weight\n",
    "    df = df[['mean_minutes']]\n",
    "    return df\n",
    "\n",
    "def linear_least_squares(df, fn):\n",
    "    values = df.index.map(fn)\n",
    "    diffs = df.mean_minutes - values\n",
    "    diffs_squared = diffs ** 2\n",
    "    return diffs_squared.sum() / (2 * len(diffs)) "
   ]
  },
  {
   "cell_type": "code",
   "execution_count": 6,
   "metadata": {
    "collapsed": false
   },
   "outputs": [
    {
     "name": "stdout",
     "output_type": "stream",
     "text": [
      "<class 'pandas.core.frame.DataFrame'>\n",
      "Int64Index: 11385 entries, 0 to 11384\n",
      "Data columns (total 5 columns):\n",
      "weight              11385 non-null float64\n",
      "age                 11385 non-null int64\n",
      "sex                 11385 non-null int64\n",
      "minutes             11385 non-null int64\n",
      "weighted_minutes    11385 non-null float64\n",
      "dtypes: float64(2), int64(3)\n",
      "memory usage: 533.7 KB\n"
     ]
    }
   ],
   "source": [
    "sleep_data = summary[['TUFINLWGT', 'TEAGE', 'TESEX', 't010101']]\n",
    "sleep_data = sleep_data.rename(columns={\"TUFINLWGT\": \"weight\", \"TEAGE\": \"age\", \"TESEX\": \"sex\", \"t010101\": \"minutes\"})\n",
    "sleep_data['weighted_minutes'] = sleep_data.weight * sleep_data.minutes\n",
    "sleep_data.info()"
   ]
  },
  {
   "cell_type": "code",
   "execution_count": 7,
   "metadata": {
    "collapsed": false
   },
   "outputs": [
    {
     "data": {
      "text/html": [
       "<div>\n",
       "<table border=\"1\" class=\"dataframe\">\n",
       "  <thead>\n",
       "    <tr style=\"text-align: right;\">\n",
       "      <th></th>\n",
       "      <th>weight</th>\n",
       "      <th>sex</th>\n",
       "      <th>minutes</th>\n",
       "      <th>weighted_minutes</th>\n",
       "    </tr>\n",
       "    <tr>\n",
       "      <th>age</th>\n",
       "      <th></th>\n",
       "      <th></th>\n",
       "      <th></th>\n",
       "      <th></th>\n",
       "    </tr>\n",
       "  </thead>\n",
       "  <tbody>\n",
       "    <tr>\n",
       "      <th>15</th>\n",
       "      <td>1.168895e+09</td>\n",
       "      <td>159</td>\n",
       "      <td>62992</td>\n",
       "      <td>6.645155e+11</td>\n",
       "    </tr>\n",
       "    <tr>\n",
       "      <th>16</th>\n",
       "      <td>1.807565e+09</td>\n",
       "      <td>243</td>\n",
       "      <td>96196</td>\n",
       "      <td>1.013404e+12</td>\n",
       "    </tr>\n",
       "    <tr>\n",
       "      <th>17</th>\n",
       "      <td>1.929189e+09</td>\n",
       "      <td>246</td>\n",
       "      <td>96861</td>\n",
       "      <td>1.094304e+12</td>\n",
       "    </tr>\n",
       "    <tr>\n",
       "      <th>18</th>\n",
       "      <td>1.419704e+09</td>\n",
       "      <td>165</td>\n",
       "      <td>64722</td>\n",
       "      <td>8.498931e+11</td>\n",
       "    </tr>\n",
       "    <tr>\n",
       "      <th>19</th>\n",
       "      <td>1.307960e+09</td>\n",
       "      <td>130</td>\n",
       "      <td>50557</td>\n",
       "      <td>7.508169e+11</td>\n",
       "    </tr>\n",
       "  </tbody>\n",
       "</table>\n",
       "</div>"
      ],
      "text/plain": [
       "           weight  sex  minutes  weighted_minutes\n",
       "age                                              \n",
       "15   1.168895e+09  159    62992      6.645155e+11\n",
       "16   1.807565e+09  243    96196      1.013404e+12\n",
       "17   1.929189e+09  246    96861      1.094304e+12\n",
       "18   1.419704e+09  165    64722      8.498931e+11\n",
       "19   1.307960e+09  130    50557      7.508169e+11"
      ]
     },
     "execution_count": 7,
     "metadata": {},
     "output_type": "execute_result"
    }
   ],
   "source": [
    "sleep_by_age = sleep_data.groupby(\"age\").sum()\n",
    "sleep_by_age.head()"
   ]
  },
  {
   "cell_type": "code",
   "execution_count": 8,
   "metadata": {
    "collapsed": false
   },
   "outputs": [
    {
     "data": {
      "text/html": [
       "<div>\n",
       "<table border=\"1\" class=\"dataframe\">\n",
       "  <thead>\n",
       "    <tr style=\"text-align: right;\">\n",
       "      <th></th>\n",
       "      <th>weight</th>\n",
       "      <th>sex</th>\n",
       "      <th>minutes</th>\n",
       "      <th>weighted_minutes</th>\n",
       "      <th>mean_minutes</th>\n",
       "    </tr>\n",
       "    <tr>\n",
       "      <th>age</th>\n",
       "      <th></th>\n",
       "      <th></th>\n",
       "      <th></th>\n",
       "      <th></th>\n",
       "      <th></th>\n",
       "    </tr>\n",
       "  </thead>\n",
       "  <tbody>\n",
       "    <tr>\n",
       "      <th>15</th>\n",
       "      <td>1.168895e+09</td>\n",
       "      <td>159</td>\n",
       "      <td>62992</td>\n",
       "      <td>6.645155e+11</td>\n",
       "      <td>568.498993</td>\n",
       "    </tr>\n",
       "    <tr>\n",
       "      <th>16</th>\n",
       "      <td>1.807565e+09</td>\n",
       "      <td>243</td>\n",
       "      <td>96196</td>\n",
       "      <td>1.013404e+12</td>\n",
       "      <td>560.646005</td>\n",
       "    </tr>\n",
       "    <tr>\n",
       "      <th>17</th>\n",
       "      <td>1.929189e+09</td>\n",
       "      <td>246</td>\n",
       "      <td>96861</td>\n",
       "      <td>1.094304e+12</td>\n",
       "      <td>567.235373</td>\n",
       "    </tr>\n",
       "    <tr>\n",
       "      <th>18</th>\n",
       "      <td>1.419704e+09</td>\n",
       "      <td>165</td>\n",
       "      <td>64722</td>\n",
       "      <td>8.498931e+11</td>\n",
       "      <td>598.641088</td>\n",
       "    </tr>\n",
       "    <tr>\n",
       "      <th>19</th>\n",
       "      <td>1.307960e+09</td>\n",
       "      <td>130</td>\n",
       "      <td>50557</td>\n",
       "      <td>7.508169e+11</td>\n",
       "      <td>574.036484</td>\n",
       "    </tr>\n",
       "  </tbody>\n",
       "</table>\n",
       "</div>"
      ],
      "text/plain": [
       "           weight  sex  minutes  weighted_minutes  mean_minutes\n",
       "age                                                            \n",
       "15   1.168895e+09  159    62992      6.645155e+11    568.498993\n",
       "16   1.807565e+09  243    96196      1.013404e+12    560.646005\n",
       "17   1.929189e+09  246    96861      1.094304e+12    567.235373\n",
       "18   1.419704e+09  165    64722      8.498931e+11    598.641088\n",
       "19   1.307960e+09  130    50557      7.508169e+11    574.036484"
      ]
     },
     "execution_count": 8,
     "metadata": {},
     "output_type": "execute_result"
    }
   ],
   "source": [
    "sleep_by_age['mean_minutes'] = sleep_by_age.weighted_minutes / sleep_by_age.weight\n",
    "sleep_by_age.head()"
   ]
  },
  {
   "cell_type": "code",
   "execution_count": null,
   "metadata": {
    "collapsed": false
   },
   "outputs": [],
   "source": [
    "sleep_by_age.loc[38].mean_minutes / 60"
   ]
  },
  {
   "cell_type": "code",
   "execution_count": 9,
   "metadata": {
    "collapsed": false
   },
   "outputs": [
    {
     "data": {
      "text/plain": [
       "<matplotlib.collections.PathCollection at 0x10e1247b8>"
      ]
     },
     "execution_count": 9,
     "metadata": {},
     "output_type": "execute_result"
    },
    {
     "data": {
      "image/png": "[encoded data removed]",
      "text/plain": [
       "<matplotlib.figure.Figure at 0x10b59e4a8>"
      ]
     },
     "metadata": {},
     "output_type": "display_data"
    }
   ],
   "source": [
    "plt.scatter(sleep_by_age.index, sleep_by_age.mean_minutes)"
   ]
  },
  {
   "cell_type": "code",
   "execution_count": 10,
   "metadata": {
    "collapsed": false
   },
   "outputs": [
    {
     "name": "stdout",
     "output_type": "stream",
     "text": [
      "[-0.3727603] 538.764180347\n"
     ]
    }
   ],
   "source": [
    "regression = linear_model.LinearRegression()\n",
    "transposed_sleep_values = np.array(sleep_by_age.index.values).reshape((-1, 1))\n",
    "regression.fit(transposed_sleep_values, sleep_by_age.mean_minutes.values)\n",
    "print(regression.coef_, regression.intercept_)"
   ]
  },
  {
   "cell_type": "code",
   "execution_count": 11,
   "metadata": {
    "collapsed": true
   },
   "outputs": [],
   "source": [
    "def plot_regression(fn):\n",
    "    plt.scatter(sleep_by_age.index, sleep_by_age.mean_minutes)\n",
    "    xmin, xmax = plt.xlim()\n",
    "    xs = np.linspace(xmin, xmax, 100)\n",
    "    plt.plot(xs, [fn(x) for x in xs])"
   ]
  },
  {
   "cell_type": "code",
   "execution_count": 12,
   "metadata": {
    "collapsed": false
   },
   "outputs": [
    {
     "data": {
      "image/png": "[encoded data removed]",
      "text/plain": [
       "<matplotlib.figure.Figure at 0x10e1d4ac8>"
      ]
     },
     "metadata": {},
     "output_type": "display_data"
    }
   ],
   "source": [
    "fn = lambda x: regression.predict(x)[0]\n",
    "\n",
    "plot_regression(fn)"
   ]
  },
  {
   "cell_type": "code",
   "execution_count": null,
   "metadata": {
    "collapsed": false
   },
   "outputs": [],
   "source": [
    "from sklearn.preprocessing import PolynomialFeatures\n",
    "from sklearn.linear_model import LinearRegression\n",
    "from sklearn.pipeline import Pipeline"
   ]
  },
  {
   "cell_type": "code",
   "execution_count": null,
   "metadata": {
    "collapsed": false
   },
   "outputs": [],
   "source": [
    "model = Pipeline([('poly', PolynomialFeatures(degree=2)),\n",
    "                  ('linear', LinearRegression(fit_intercept=False))])\n",
    "model = model.fit(np.array(sleep_by_age.index.values).reshape((-1, 1)), \n",
    "                  sleep_by_age.mean_minutes.values)\n",
    "\n",
    "print(model.named_steps['linear'].coef_)"
   ]
  },
  {
   "cell_type": "code",
   "execution_count": null,
   "metadata": {
    "collapsed": false
   },
   "outputs": [],
   "source": [
    "fn = lambda x: model.predict(x)[0]\n",
    "plot_regression(fn)"
   ]
  },
  {
   "cell_type": "code",
   "execution_count": null,
   "metadata": {
    "collapsed": false
   },
   "outputs": [],
   "source": [
    "model.predict(38) / 60"
   ]
  },
  {
   "cell_type": "code",
   "execution_count": null,
   "metadata": {
    "collapsed": false
   },
   "outputs": [],
   "source": [
    "model.predict(50) / 60"
   ]
  },
  {
   "cell_type": "code",
   "execution_count": null,
   "metadata": {
    "collapsed": false
   },
   "outputs": [],
   "source": [
    "model = Pipeline([('poly', PolynomialFeatures(degree=0)),\n",
    "                  ('linear', LinearRegression(fit_intercept=False))])\n",
    "model = model.fit(np.array(sleep_by_age.index.values).reshape((-1, 1)), \n",
    "                  sleep_by_age.mean_minutes.values)\n",
    "\n",
    "\n",
    "print(model.named_steps['linear'].coef_)\n",
    "\n",
    "fn = lambda x: model.predict(x)[0]\n",
    "\n",
    "plot_regression(fn)"
   ]
  },
  {
   "cell_type": "code",
   "execution_count": null,
   "metadata": {
    "collapsed": false
   },
   "outputs": [],
   "source": [
    "model = Pipeline([('poly', PolynomialFeatures(degree=1)),\n",
    "                  ('linear', LinearRegression(fit_intercept=False))])\n",
    "model = model.fit(np.array(sleep_by_age.index.values).reshape((-1, 1)), \n",
    "                  sleep_by_age.mean_minutes.values)\n",
    "\n",
    "print(model.named_steps['linear'].coef_)\n",
    "\n",
    "fn = lambda x: model.predict(x)[0]\n",
    "\n",
    "plot_regression(fn)"
   ]
  },
  {
   "cell_type": "code",
   "execution_count": null,
   "metadata": {
    "collapsed": false
   },
   "outputs": [],
   "source": [
    "\n",
    "from sklearn.linear_model import Ridge\n",
    "model = Pipeline([('poly', PolynomialFeatures(degree=5)),\n",
    "                  ('linear', Ridge())])\n",
    "model = model.fit(np.array(sleep_by_age.index.values).reshape((-1, 1)), \n",
    "                  sleep_by_age.mean_minutes.values)\n",
    "\n",
    "print(model.named_steps['linear'].coef_)\n",
    "fn = lambda x: model.predict(x)[0]\n",
    "\n",
    "plot_regression(fn)"
   ]
  },
  {
   "cell_type": "code",
   "execution_count": null,
   "metadata": {
    "collapsed": true
   },
   "outputs": [],
   "source": []
  }
 ],
 "metadata": {
  "kernelspec": {
   "display_name": "Python 3",
   "language": "python",
   "name": "python3"
  },
  "language_info": {
   "codemirror_mode": {
    "name": "ipython",
    "version": 3
   },
   "file_extension": ".py",
   "mimetype": "text/x-python",
   "name": "python",
   "nbconvert_exporter": "python",
   "pygments_lexer": "ipython3",
   "version": "3.4.3"
  }
 },
 "nbformat": 4,
 "nbformat_minor": 0
}
