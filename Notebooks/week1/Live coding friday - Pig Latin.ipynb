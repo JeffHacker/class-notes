{
 "cells": [
  {
   "cell_type": "code",
   "execution_count": null,
   "metadata": {
    "collapsed": true
   },
   "outputs": [],
   "source": [
    "# joel  = oeljay\n",
    "# jeff = effjay\n",
    "# bekk = ekkbay\n",
    "# eat = eatway"
   ]
  },
  {
   "cell_type": "code",
   "execution_count": 22,
   "metadata": {
    "collapsed": false
   },
   "outputs": [
    {
     "name": "stdout",
     "output_type": "stream",
     "text": [
      "ahhhh you divided by zero\n",
      "program hasn't crashed\n"
     ]
    }
   ],
   "source": [
    "denom = 0\n",
    "try:\n",
    "    x = 9 / denom\n",
    "except ZeroDivisionError:\n",
    "    denom = 1\n",
    "    x = 9 / denom\n",
    "    print(\"ahhhh you divided by zero\")\n",
    "    \n",
    "print(\"program hasn't crashed\")"
   ]
  },
  {
   "cell_type": "code",
   "execution_count": 54,
   "metadata": {
    "collapsed": true
   },
   "outputs": [],
   "source": [
    "def assert_equals(input_one, input_two):\n",
    "    try:\n",
    "        assert input_one == input_two\n",
    "    except AssertionError:\n",
    "        raise AssertionError(\"Values Don't Match - Dummy\", input_one, input_two)\n",
    "    else:\n",
    "        print(\"Values Match!\")\n",
    "    finally:\n",
    "        print(\".\")"
   ]
  },
  {
   "cell_type": "code",
   "execution_count": 21,
   "metadata": {
    "collapsed": false
   },
   "outputs": [],
   "source": [
    "assert_equals(2, 2)"
   ]
  },
  {
   "cell_type": "code",
   "execution_count": 66,
   "metadata": {
    "collapsed": false
   },
   "outputs": [
    {
     "name": "stdout",
     "output_type": "stream",
     "text": [
      "Values Match!\n",
      ".\n",
      "Values Match!\n",
      ".\n",
      "Values Match!\n",
      ".\n"
     ]
    }
   ],
   "source": [
    "#assert_equals(\"123\", \"123\")\n",
    "\n",
    "values = [(\"Oeljay\", \"Joel\"), (\"Effjay\", \"Jeff\"), (\"Eatway\", \"eat\")]\n",
    "\n",
    "for expected, actual in values:\n",
    "    assert_equals(expected, pig_latin(actual))"
   ]
  },
  {
   "cell_type": "code",
   "execution_count": 64,
   "metadata": {
    "collapsed": false
   },
   "outputs": [
    {
     "name": "stdout",
     "output_type": "stream",
     "text": [
      "Oeljay\n"
     ]
    }
   ],
   "source": [
    "def pig_latin(word):\n",
    "    first_letter = word[0].lower()\n",
    "    if first_letter in \"aeiou\":\n",
    "        return word.title() + \"way\"\n",
    "    rest_word = word[1:].title()\n",
    "    return rest_word + first_letter + \"ay\"\n",
    "\n",
    "print(pig_latin(\"joel\"))"
   ]
  },
  {
   "cell_type": "code",
   "execution_count": null,
   "metadata": {
    "collapsed": false
   },
   "outputs": [],
   "source": []
  },
  {
   "cell_type": "code",
   "execution_count": null,
   "metadata": {
    "collapsed": true
   },
   "outputs": [],
   "source": []
  }
 ],
 "metadata": {
  "kernelspec": {
   "display_name": "Python 3",
   "language": "python",
   "name": "python3"
  },
  "language_info": {
   "codemirror_mode": {
    "name": "ipython",
    "version": 3
   },
   "file_extension": ".py",
   "mimetype": "text/x-python",
   "name": "python",
   "nbconvert_exporter": "python",
   "pygments_lexer": "ipython3",
   "version": "3.4.3"
  }
 },
 "nbformat": 4,
 "nbformat_minor": 0
}
