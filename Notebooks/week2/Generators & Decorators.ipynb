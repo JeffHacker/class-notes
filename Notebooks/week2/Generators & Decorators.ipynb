{
 "cells": [
  {
   "cell_type": "code",
   "execution_count": null,
   "metadata": {
    "collapsed": false
   },
   "outputs": [],
   "source": [
    "# Decorators\n",
    "# Generators part deux\n",
    "\n",
    "l = [1, 2, 3, 4]\n",
    "\n",
    "for item in l:\n",
    "    print(item)\n",
    "    \n",
    "# yield\n",
    "\n",
    "def lazy_cohort():\n",
    "    yield \"paul\"\n",
    "    yield \"bekk\"\n",
    "    yield \"soren\"\n",
    "    yield \"jeff\"\n",
    "    \n",
    "i = lazy_cohort()\n",
    "\n",
    "print(i)\n",
    "\n",
    "for value in i:\n",
    "    print(value)\n",
    "\n",
    "def lazy_cohort_two():\n",
    "    yield \"paul\"\n",
    "    yield \"bekk\"\n",
    "    yield \"soren\"\n",
    "    yield \"jeff\"\n",
    "    \n",
    "G = lazy_cohort_two()\n",
    "print(\"-----\")\n",
    "\n",
    "print(next(G))\n",
    "print(next(G))\n",
    "print(next(G))\n",
    "print(next(G))\n",
    "print(next(G))\n"
   ]
  },
  {
   "cell_type": "code",
   "execution_count": 2,
   "metadata": {
    "collapsed": false
   },
   "outputs": [],
   "source": [
    "def joel_range(end):\n",
    "    range_list = []\n",
    "    counter = 0\n",
    "    while counter < end:\n",
    "        range_list.append(counter)\n",
    "        counter += 1\n",
    "    return range_list\n",
    "\n",
    "def generator_range(end):\n",
    "    counter = 0\n",
    "    while counter < end:\n",
    "        yield counter\n",
    "        counter += 1\n",
    "\n",
    "lazy_range = generator_range(1000000000)\n",
    "# ........\n",
    "\n",
    "#print(list(lazy_range))\n",
    "#print(joel_range(1000000000))"
   ]
  },
  {
   "cell_type": "code",
   "execution_count": 4,
   "metadata": {
    "collapsed": false
   },
   "outputs": [
    {
     "name": "stdout",
     "output_type": "stream",
     "text": [
      "[0, 122, 244, 366, 488, 610, 732, 854, 976, 1098, 1220, 1342, 1464, 1586, 1708, 1830, 1952, 2074, 2196, 2318, 2440, 2562, 2684, 2806, 2928, 3050, 3172, 3294, 3416, 3538, 3660, 3782, 3904, 4026, 4148, 4270, 4392, 4514, 4636, 4758, 4880, 5002, 5124, 5246, 5368, 5490, 5612, 5734, 5856, 5978, 6100, 6222, 6344, 6466, 6588, 6710, 6832, 6954, 7076, 7198, 7320, 7442, 7564, 7686, 7808, 7930, 8052, 8174, 8296, 8418, 8540, 8662, 8784, 8906, 9028, 9150, 9272, 9394, 9516, 9638, 9760, 9882, 10004, 10126, 10248, 10370, 10492, 10614, 10736, 10858, 10980, 11102, 11224, 11346, 11468, 11590, 11712, 11834, 11956, 12078]\n"
     ]
    }
   ],
   "source": [
    "c = [(lambda x: x*123-x)(x) for x in generator_range(100)]\n",
    "print(c)"
   ]
  },
  {
   "cell_type": "code",
   "execution_count": 24,
   "metadata": {
    "collapsed": false,
    "scrolled": true
   },
   "outputs": [
    {
     "name": "stdout",
     "output_type": "stream",
     "text": [
      "Calling Function:  wrapped_function\n",
      "Args:  (<__main__.Thing object at 0x111385b38>, 'joel')\n",
      "Kwargs:  {'name': 'jeff'}\n",
      "Return value:  0\n"
     ]
    },
    {
     "data": {
      "text/plain": [
       "0"
      ]
     },
     "execution_count": 24,
     "metadata": {},
     "output_type": "execute_result"
    }
   ],
   "source": [
    "def catch(decorated_function):\n",
    "    \n",
    "    def wrapped_function(*args, **kwargs):\n",
    "        try:\n",
    "            return_value = decorated_function(*args, **kwargs)\n",
    "        except IndexError:\n",
    "            return_value = 0\n",
    "        return return_value\n",
    "    return wrapped_function\n",
    "\n",
    "\n",
    "def debug(decorated_function):\n",
    "    \n",
    "    def wrapped_function(*args, **kwargs):\n",
    "        print(\"Calling Function: \", decorated_function.__name__)\n",
    "        print(\"Args: \", args)\n",
    "        print(\"Kwargs: \", kwargs)\n",
    "        return_value = decorated_function(*args, **kwargs)\n",
    "        print(\"Return value: \", return_value)\n",
    "        return return_value\n",
    "    \n",
    "    return wrapped_function\n",
    "\n",
    "class Thing:\n",
    "    \n",
    "    @debug\n",
    "    @catch(IndexError)\n",
    "    def any_function(*args, **kwargs):\n",
    "        raise IndexError()\n",
    "        return \"asdlkjasd\"\n",
    "\n",
    "Thing().any_function(\"joel\", name=\"jeff\")"
   ]
  },
  {
   "cell_type": "code",
   "execution_count": null,
   "metadata": {
    "collapsed": true
   },
   "outputs": [],
   "source": []
  }
 ],
 "metadata": {
  "kernelspec": {
   "display_name": "Python 3",
   "language": "python",
   "name": "python3"
  },
  "language_info": {
   "codemirror_mode": {
    "name": "ipython",
    "version": 3
   },
   "file_extension": ".py",
   "mimetype": "text/x-python",
   "name": "python",
   "nbconvert_exporter": "python",
   "pygments_lexer": "ipython3",
   "version": "3.4.3"
  }
 },
 "nbformat": 4,
 "nbformat_minor": 0
}
