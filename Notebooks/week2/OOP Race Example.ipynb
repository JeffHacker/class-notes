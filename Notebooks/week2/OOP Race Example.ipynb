{
 "cells": [
  {
   "cell_type": "code",
   "execution_count": 79,
   "metadata": {
    "collapsed": false
   },
   "outputs": [],
   "source": [
    "import random\n",
    "\n",
    "class Bike:\n",
    "    speed = 0\n",
    "    moving = False\n",
    "    location = 0\n",
    "    top_speed = 14\n",
    "    name = \"\"\n",
    "    \n",
    "    def __init__(self, name=\"Unknown Racer\", top_speed=14):\n",
    "        self.name = name\n",
    "        self.top_speed = top_speed\n",
    "        \n",
    "    def __str__(self):\n",
    "        return \"{} - {} - {}\".format(self.name, self.location, self.speed)\n",
    "    \n",
    "    def accelerate(self):\n",
    "        if self.speed < self.top_speed:\n",
    "            self.speed += 1\n",
    "    \n",
    "    def start(self):\n",
    "        self.moving = True\n",
    "        self.accelerate()\n",
    "    \n",
    "    def stop(self):\n",
    "        pass\n",
    "\n",
    "    def update(self):\n",
    "        if random.random() >= .5:\n",
    "            self.accelerate()\n",
    "        self.location += self.speed * random.random()\n",
    "\n",
    "\n",
    "class Race:\n",
    "    start = 0\n",
    "    finish = 100\n",
    "    active = False\n",
    "    winner = \"\"\n",
    "    \n",
    "    def __init__(self, racers, finish=100):\n",
    "        self.racers = racers\n",
    "        self.finish = finish\n",
    "    \n",
    "    def start(self):\n",
    "        self.active = True\n",
    "        for racer in self.racers:\n",
    "            racer.start()\n",
    "            racer.update()\n",
    "            \n",
    "    def begin_race(self):\n",
    "        self.start()\n",
    "        while self.active:\n",
    "            for racer in self.racers:\n",
    "                if racer.location >= self.finish:\n",
    "                    self.winner = racer\n",
    "                    self.stop()\n",
    "                    break\n",
    "                racer.update()\n",
    "\n",
    "    \n",
    "    def stop(self):\n",
    "        self.active = False\n",
    "        print(\"STOP THE RACE! {} WON!!!!\".format(self.winner.name))\n",
    "        for racer in self.racers:\n",
    "            print(racer)"
   ]
  },
  {
   "cell_type": "code",
   "execution_count": 81,
   "metadata": {
    "collapsed": false
   },
   "outputs": [
    {
     "name": "stdout",
     "output_type": "stream",
     "text": [
      "STOP THE RACE! Joel WON!!!!\n",
      "Jeff - 86.3880564301413 - 11\n",
      "Joel - 102.39912046639972 - 12\n",
      "Bekk - 101.62704894302159 - 14\n",
      "STOP THE RACE! Bekk WON!!!!\n",
      "Jeff - 829.1102169310892 - 15\n",
      "Joel - 693.9409400446939 - 12\n",
      "Bekk - 1002.1091299856367 - 18\n",
      "STOP THE RACE! Bekk WON!!!!\n",
      "Jeff - 8189.853147938213 - 15\n",
      "Joel - 6702.600704746443 - 12\n",
      "Bekk - 10004.916902640314 - 18\n",
      "STOP THE RACE! Bekk WON!!!!\n",
      "Jeff - 84055.79756011566 - 15\n",
      "Joel - 66347.79388519583 - 12\n",
      "Bekk - 100003.79891897629 - 18\n"
     ]
    }
   ],
   "source": [
    "jeff = Bike(name=\"Jeff\", top_speed=15)\n",
    "joel = Bike(name=\"Joel\", top_speed=12)\n",
    "bekk = Bike(name=\"Bekk\", top_speed=18)\n",
    "\n",
    "Race([jeff, joel, bekk], finish=100).begin_race()\n",
    "Race([jeff, joel, bekk], finish=1000).begin_race()\n",
    "Race([jeff, joel, bekk], finish=10000).begin_race()\n",
    "Race([jeff, joel, bekk], finish=100000).begin_race()\n",
    "\n"
   ]
  },
  {
   "cell_type": "code",
   "execution_count": 39,
   "metadata": {
    "collapsed": false
   },
   "outputs": [
    {
     "name": "stdout",
     "output_type": "stream",
     "text": [
      "0\n",
      "12\n"
     ]
    }
   ],
   "source": [
    "joel = Bike(name=\"Joel\")\n",
    "\n",
    "print(joel.location)\n",
    "joel.start()\n",
    "joel.accelerate()\n",
    "joel.accelerate()\n",
    "joel.update()\n",
    "joel.update()\n",
    "\n",
    "joel.update()\n",
    "joel.update()\n",
    "\n",
    "print(joel.location)"
   ]
  },
  {
   "cell_type": "code",
   "execution_count": 104,
   "metadata": {
    "collapsed": false
   },
   "outputs": [
    {
     "name": "stdout",
     "output_type": "stream",
     "text": [
      "<class '__main__.Person'>\n",
      "joel is funny\n"
     ]
    },
    {
     "data": {
      "text/plain": [
       "'YAEAH'"
      ]
     },
     "execution_count": 104,
     "metadata": {},
     "output_type": "execute_result"
    }
   ],
   "source": [
    "from collections import namedtuple\n",
    "\n",
    "Person = namedtuple(\"Person\", ('speed', 'name', 'favorite_book'))\n",
    "\n",
    "class Person:\n",
    "    speed = 0\n",
    "    name = \"\"\n",
    "    favorite_book = \"\"\n",
    "\n",
    "print(Person)\n",
    "\n",
    "classes = {}\n",
    "for class_name in [\"Person\", \"Place\", \"Thing\"]:\n",
    "    classes[class_name] = namedtuple(class_name, ('stupid', 'funny'))\n",
    "    \n",
    "def new_function(): print(\"joel is funny\") ; return \"YAEAH\"\n",
    "\n",
    "new_function()"
   ]
  },
  {
   "cell_type": "code",
   "execution_count": 105,
   "metadata": {
    "collapsed": false
   },
   "outputs": [
    {
     "data": {
      "text/plain": [
       "<enumerate at 0x106c3dcf0>"
      ]
     },
     "execution_count": 105,
     "metadata": {},
     "output_type": "execute_result"
    }
   ],
   "source": [
    "enumerate([1, 2, 34])"
   ]
  },
  {
   "cell_type": "code",
   "execution_count": null,
   "metadata": {
    "collapsed": false
   },
   "outputs": [],
   "source": []
  },
  {
   "cell_type": "code",
   "execution_count": 112,
   "metadata": {
    "collapsed": false
   },
   "outputs": [
    {
     "data": {
      "text/plain": [
       "81"
      ]
     },
     "execution_count": 112,
     "metadata": {},
     "output_type": "execute_result"
    }
   ],
   "source": [
    "function(9)"
   ]
  },
  {
   "cell_type": "code",
   "execution_count": null,
   "metadata": {
    "collapsed": true
   },
   "outputs": [],
   "source": []
  }
 ],
 "metadata": {
  "kernelspec": {
   "display_name": "Python 3",
   "language": "python",
   "name": "python3"
  },
  "language_info": {
   "codemirror_mode": {
    "name": "ipython",
    "version": 3
   },
   "file_extension": ".py",
   "mimetype": "text/x-python",
   "name": "python",
   "nbconvert_exporter": "python",
   "pygments_lexer": "ipython3",
   "version": "3.4.3"
  }
 },
 "nbformat": 4,
 "nbformat_minor": 0
}
