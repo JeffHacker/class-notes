{
 "cells": [
  {
   "cell_type": "code",
   "execution_count": 1,
   "metadata": {
    "collapsed": true
   },
   "outputs": [],
   "source": [
    "with open(\"/usr/share/dict/words\") as infile:\n",
    "    word_list = list({line.lower().replace('\\n', '') for line in infile.readlines()})\n",
    "    \n"
   ]
  },
  {
   "cell_type": "code",
   "execution_count": 2,
   "metadata": {
    "collapsed": false
   },
   "outputs": [
    {
     "name": "stdout",
     "output_type": "stream",
     "text": [
      "crapulously\n",
      "__a________8\n",
      "__a________7\n",
      "c_a________7\n",
      "c_a________6\n",
      "c_a________5\n",
      "c_a________4\n",
      "c_a________3\n",
      "c_a________2\n",
      "c_a________1\n",
      "c_a________0\n",
      "c_a________-1\n",
      "c_a__l___l_-1\n",
      "c_a__l___l_-2\n",
      "c_a__l___l_-3\n",
      "c_a__lo__l_-3\n",
      "c_ap_lo__l_-3\n",
      "c_ap_lo__l_-4\n",
      "crap_lo__l_-4\n",
      "crap_lo_sl_-4\n",
      "crap_lo_sl_-5\n",
      "crapulousl_-5\n",
      "crapulousl_-6\n",
      "crapulousl_-7\n",
      "crapulousl_-8\n",
      "crapulously-8\n",
      "crapulously-9\n"
     ]
    }
   ],
   "source": [
    "import random\n",
    "\n",
    "class MysteryWordState:\n",
    "    \n",
    "    guesses = 8\n",
    "    \n",
    "    def __init__(self, word_list):\n",
    "        self.word_list = word_list\n",
    "        self.mystery_word = self.get_random_word()\n",
    "        self.word_display = \"_\" * len(self.mystery_word)\n",
    "\n",
    "    def __str__(self):\n",
    "        return self.word_display + str(self.guesses)\n",
    "    \n",
    "    def get_random_word(self):\n",
    "        return random.choice(self.word_list)\n",
    "\n",
    "    def handle_guess(self, correct_flag):\n",
    "        if not correct_flag:\n",
    "            self.guesses -= 1\n",
    "    \n",
    "    def submit_a_guess(self, guess):\n",
    "        correct = False\n",
    "        for index, letter in enumerate(self.mystery_word):\n",
    "            if guess == letter:\n",
    "                correct = True\n",
    "                temp_word_display = list(self.word_display)\n",
    "                temp_word_display[index] = letter\n",
    "                self.word_display = \"\".join(temp_word_display)\n",
    "                \n",
    "                \n",
    "        self.handle_guess(correct)\n",
    "\n",
    "            \n",
    "    \n",
    "    \n",
    "game = MysteryWordState(word_list)\n",
    "\n",
    "#print(game.word_list)\n",
    "print(game.mystery_word)\n",
    "from string import ascii_lowercase as letters\n",
    "\n",
    "for letter in letters:\n",
    "    game.submit_a_guess(letter)\n",
    "    print(game)"
   ]
  },
  {
   "cell_type": "code",
   "execution_count": null,
   "metadata": {
    "collapsed": true
   },
   "outputs": [],
   "source": []
  }
 ],
 "metadata": {
  "kernelspec": {
   "display_name": "Python 3",
   "language": "python",
   "name": "python3"
  },
  "language_info": {
   "codemirror_mode": {
    "name": "ipython",
    "version": 3
   },
   "file_extension": ".py",
   "mimetype": "text/x-python",
   "name": "python",
   "nbconvert_exporter": "python",
   "pygments_lexer": "ipython3",
   "version": "3.4.3"
  }
 },
 "nbformat": 4,
 "nbformat_minor": 0
}
