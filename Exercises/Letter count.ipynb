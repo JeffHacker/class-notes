{
 "cells": [
  {
   "cell_type": "code",
   "execution_count": 1,
   "metadata": {
    "collapsed": false
   },
   "outputs": [
    {
     "data": {
      "text/plain": [
       "'noise'"
      ]
     },
     "execution_count": 1,
     "metadata": {},
     "output_type": "execute_result"
    }
   ],
   "source": [
    "\"banana\"\n",
    "\"cupcake\"\n",
    "\"tree\"\n",
    "\"desk\"\n",
    "\"coffee\"\n",
    "\"sledgehammer\"\n",
    "\"spotify\"\n",
    "\"mug\"\n",
    "\"chair\"\n",
    "\"noise\""
   ]
  },
  {
   "cell_type": "code",
   "execution_count": 12,
   "metadata": {
    "collapsed": false
   },
   "outputs": [
    {
     "name": "stdout",
     "output_type": "stream",
     "text": [
      "{'b': 1, 'a': 3, 'n': 2}\n",
      "Program Works:  True\n"
     ]
    }
   ],
   "source": [
    "word = \"banana\"\n",
    "\n",
    "expected_histogram = {\n",
    "    \"b\": 1,\n",
    "    \"a\": 3,\n",
    "    \"n\": 2\n",
    "}\n",
    "\n",
    "def convert_to_histogram(word):\n",
    "    histogram = {}\n",
    "    for character in word:\n",
    "        if character in histogram:  \n",
    "            histogram[character] = histogram[character] + 1\n",
    "        else:\n",
    "            histogram[character] = 1\n",
    "    return histogram\n",
    "\n",
    "returned_histogram = convert_to_histogram(word)\n",
    "print(returned_histogram)\n",
    "\n",
    "print(\"Program Works: \", expected_histogram == returned_histogram)"
   ]
  },
  {
   "cell_type": "code",
   "execution_count": null,
   "metadata": {
    "collapsed": true
   },
   "outputs": [],
   "source": []
  }
 ],
 "metadata": {
  "kernelspec": {
   "display_name": "Python 3",
   "language": "python",
   "name": "python3"
  },
  "language_info": {
   "codemirror_mode": {
    "name": "ipython",
    "version": 3
   },
   "file_extension": ".py",
   "mimetype": "text/x-python",
   "name": "python",
   "nbconvert_exporter": "python",
   "pygments_lexer": "ipython3",
   "version": "3.4.3"
  }
 },
 "nbformat": 4,
 "nbformat_minor": 0
}
