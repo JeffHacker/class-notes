{
 "cells": [
  {
   "cell_type": "markdown",
   "metadata": {},
   "source": [
    "Suppose the cover price of a book is \\$24.95, but bookstores get a 40% discount. Shipping costs \\$3 for the first copy and 75 cents for each additional copy. What is the total wholesale cost for 60 copies?"
   ]
  },
  {
   "cell_type": "code",
   "execution_count": 35,
   "metadata": {
    "collapsed": false
   },
   "outputs": [
    {
     "name": "stdout",
     "output_type": "stream",
     "text": [
      "945.4500000000012\n",
      "Is my program bug free?  True\n"
     ]
    }
   ],
   "source": [
    "# wholesale_cost * 60 == x\n",
    "cover_price = 24.95\n",
    "discount = .4\n",
    "discounted_cover_price = cover_price - (cover_price * discount)\n",
    "shipping_cost = 3\n",
    "secondary_shipping_cost = .75\n",
    "\n",
    "def get_shipping_cost(index, shipping_cost, secondary_shipping_cost):\n",
    "    local_shipping_cost = secondary_shipping_cost\n",
    "    if index == 0:\n",
    "        local_shipping_cost = shipping_cost\n",
    "    return local_shipping_cost\n",
    "\n",
    "def calculate_total_wholesale_cost(copies):\n",
    "    total_wholesale_cost = 0\n",
    "    for index in range(60):\n",
    "        local_shipping_cost = get_shipping_cost(index, shipping_cost, secondary_shipping_cost)\n",
    "        total_wholesale_cost += local_shipping_cost\n",
    "        total_wholesale_cost += discounted_cover_price\n",
    "    return total_wholesale_cost\n",
    "\n",
    "wholesale_cost = calculate_total_wholesale_cost(60)\n",
    "print(wholesale_cost)\n",
    "print(\"Is my program bug free? \", wholesale_cost == 945.4500000000012)\n"
   ]
  },
  {
   "cell_type": "code",
   "execution_count": null,
   "metadata": {
    "collapsed": true
   },
   "outputs": [],
   "source": []
  }
 ],
 "metadata": {
  "kernelspec": {
   "display_name": "Python 3",
   "language": "python",
   "name": "python3"
  },
  "language_info": {
   "codemirror_mode": {
    "name": "ipython",
    "version": 3
   },
   "file_extension": ".py",
   "mimetype": "text/x-python",
   "name": "python",
   "nbconvert_exporter": "python",
   "pygments_lexer": "ipython3",
   "version": "3.4.3"
  }
 },
 "nbformat": 4,
 "nbformat_minor": 0
}
