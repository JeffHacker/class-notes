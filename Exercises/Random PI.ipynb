{
 "cells": [
  {
   "cell_type": "code",
   "execution_count": 72,
   "metadata": {
    "collapsed": false
   },
   "outputs": [],
   "source": [
    "def in_circle(x, y, r=.5):\n",
    "    return (x*x + y*y) < r*r\n"
   ]
  },
  {
   "cell_type": "code",
   "execution_count": 73,
   "metadata": {
    "collapsed": false
   },
   "outputs": [
    {
     "name": "stdout",
     "output_type": "stream",
     "text": [
      "True\n",
      "False\n"
     ]
    }
   ],
   "source": [
    "\n",
    "first_sample = in_circle(.2, -.3, .5)\n",
    "second_sample = in_circle(-.5, -.1, .5)\n",
    "print(first_sample)\n",
    "print(second_sample)\n"
   ]
  },
  {
   "cell_type": "code",
   "execution_count": 71,
   "metadata": {
    "collapsed": false
   },
   "outputs": [
    {
     "name": "stdout",
     "output_type": "stream",
     "text": [
      "3.14064\n"
     ]
    }
   ],
   "source": [
    "import random\n",
    "\n",
    "sample = [(random.uniform(-.5, .5), random.uniform(-.5, .5)) for _ in range(1000000)]\n",
    "results = [in_circle(x, y, .5) for x, y in sample]\n",
    "m = len(results)\n",
    "n = results.count(True)\n",
    "\n",
    "print((n/m) * 4)\n"
   ]
  }
 ],
 "metadata": {
  "kernelspec": {
   "display_name": "Python 3",
   "language": "python",
   "name": "python3"
  },
  "language_info": {
   "codemirror_mode": {
    "name": "ipython",
    "version": 3
   },
   "file_extension": ".py",
   "mimetype": "text/x-python",
   "name": "python",
   "nbconvert_exporter": "python",
   "pygments_lexer": "ipython3",
   "version": "3.4.3"
  }
 },
 "nbformat": 4,
 "nbformat_minor": 0
}
